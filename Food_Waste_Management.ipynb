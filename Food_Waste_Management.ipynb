{
 "cells": [
  {
   "metadata": {},
   "cell_type": "markdown",
   "source": "# Project Name: Food Waste Management System",
   "id": "140bbf8e89cd1fab"
  },
  {
   "metadata": {},
   "cell_type": "markdown",
   "source": [
    "##### **Project Type**    - SQL / Data Analysis\n",
    "##### **Contribution**    - Individual\n",
    "##### **Member       - Puneeth Sai Satvik**"
   ],
   "id": "36d9b188cf7593ea"
  },
  {
   "metadata": {},
   "cell_type": "markdown",
   "source": "### Project Summary",
   "id": "2b55c09af6aefdbe"
  },
  {
   "metadata": {},
   "cell_type": "markdown",
   "source": [
    "Food Waste Management System is an SQL-based project that enables to manage food wastage problem efficiently by providing those in need like NGOs and Orphanages with non-expired left over food from supermarkets, restaurants, etc. It also has Streamlit application with UI for anyone to interact with\n",
    "\n",
    "The project primarily has four datasets to work with:\n",
    "* Providers: The list of entities providing the food (Ex: Restaurant, Supermarket, etc.)\n",
    "* Receivers: The list of entities receiving the food (Ex: NGOs)\n",
    "* Food Listing: The table of all the foods listed by the provider\n",
    "* Claims: The table that contains records of food claimed by receiver including status\n",
    "\n",
    "There are four main phases of this project they are\n",
    "\n",
    "#### Data Preparation\n",
    "\n",
    "This involves loading the datasets into the memory, understanding them by establishing relationships between tables, searching for duplicates and null values. If found, enable an efficient way to handle them to finally produce clean dataset to work with during further phases.\n",
    "\n",
    "From the given data, there are no null values or duplicates found, hence the original dataset is fully clean and ready for the next stage.\n",
    "\n",
    "#### Database Creation\n",
    "\n",
    "In this phase, MySQL is installed and deployed at port no 3306 of my local system. Once it is up and running, a framework called mysql.connector is installed to access the database using python for efficient automation. Connection is established by entering the port no and password. After the connection is setup, a cursor is defined which is then used to create the database, tables and insert values into those tables. Insertion is then perfomed with exception handling to catch any improper data.\n",
    "\n",
    "Now the database and the tables in they are fully ready for in-depth analysis\n",
    "\n",
    "#### Data Analysis\n",
    "\n",
    "Data analysis aims to uncover any insights in data using select queries and graphical representations. Fifteen important questions were answered in this phase they are\n",
    "\n",
    "1. How many food providers and receivers are there in each city?\n",
    "2. Which type of food provider (restaurant, grocery store, etc.) contributes the most food?\n",
    "3. What is the contact information of food providers in a specific city?\n",
    "4. Which receivers have claimed the most food?\n",
    "5. What is the total quantity of food available from all providers?\n",
    "6. Which city has the highest number of food listings?\n",
    "7. What are the most commonly available food types?\n",
    "8. How many food claims have been made for each food item?\n",
    "9. Which provider has had the highest number of successful food claims?\n",
    "10. What percentage of food claims are completed vs. pending vs. canceled?\n",
    "11. What is the average quantity of food claimed per receiver?\n",
    "12. Which meal type (breakfast, lunch, dinner, snacks) is claimed the most?\n",
    "13. What is the total quantity of food donated by each provider?\n",
    "14. Which food items have the highest unclaimed rate?\n",
    "15. How many unique food items does each provider contribute?\n",
    "\n",
    "Graphs were also plotted for some queries for a better understanding\n",
    "\n",
    "#### Streamlit Application\n",
    "\n",
    "The final Phase of the project is the streamlit application, which is a user-friendly application whose aim is to manage the data and check for insights with a non-code-based interface. It has five main pages they are\n",
    "* About Project - The first page of the application that is static and displays the information about the project and guides user on how to use the application.\n",
    "* View Tables - The page where user can see the data of all the tables in the database it uses select queries to fetch data from the database.\n",
    "* CRUD Operations - This page is mainly for the application admin who can insert, update and delete records from all the tables with a simple UI and tested of various test cases with irregular and corrupted data.\n",
    "* P & R Filters - The page where users can search for the contact of receivers and providers based on city and ID.\n",
    "* 15 Queries - The queries mentioned before with graphs are added in this page where user can select using a dropdown on the type of data they look for. It get continuously updated as it performs select option every time user toggles between the dropdown of queries. Hence, working simultaneously with CRUD operation page.\n"
   ],
   "id": "f75db05a98faf6b2"
  },
  {
   "metadata": {},
   "cell_type": "markdown",
   "source": "### GitHub Link",
   "id": "d9704f48cccfa00a"
  },
  {
   "metadata": {},
   "cell_type": "markdown",
   "source": "### Data Preparation",
   "id": "98c4e3d6f18626fb"
  },
  {
   "metadata": {
    "ExecuteTime": {
     "end_time": "2025-08-15T09:01:31.937441Z",
     "start_time": "2025-08-15T09:01:31.391062Z"
    }
   },
   "cell_type": "code",
   "source": [
    "# Essential Imports\n",
    "import pandas as pd\n",
    "import matplotlib.pyplot as plt"
   ],
   "id": "d478e8aca19a9641",
   "outputs": [],
   "execution_count": 1
  },
  {
   "metadata": {
    "ExecuteTime": {
     "end_time": "2025-08-15T09:01:31.956332Z",
     "start_time": "2025-08-15T09:01:31.944623Z"
    }
   },
   "cell_type": "code",
   "source": [
    "# Load the data\n",
    "\n",
    "providers = pd.read_csv(\"providers_data.csv\")\n",
    "receivers = pd.read_csv(\"receivers_data.csv\")\n",
    "food_listings = pd.read_csv(\"food_listings_data.csv\")\n",
    "claims = pd.read_csv(\"claims_data.csv\")"
   ],
   "id": "572210dcaf19fe74",
   "outputs": [],
   "execution_count": 2
  },
  {
   "metadata": {},
   "cell_type": "markdown",
   "source": "#### Dataset First View",
   "id": "d5406b8191f1f461"
  },
  {
   "metadata": {
    "ExecuteTime": {
     "end_time": "2025-08-15T09:01:31.969247Z",
     "start_time": "2025-08-15T09:01:31.961649Z"
    }
   },
   "cell_type": "code",
   "source": [
    "# Dataset 1 First Look\n",
    "\n",
    "providers.head()"
   ],
   "id": "c9a9223e976f9d74",
   "outputs": [
    {
     "data": {
      "text/plain": [
       "   Provider_ID                         Name           Type  \\\n",
       "0            1             Gonzales-Cochran    Supermarket   \n",
       "1            2  Nielsen, Johnson and Fuller  Grocery Store   \n",
       "2            3                 Miller-Black    Supermarket   \n",
       "3            4   Clark, Prince and Williams  Grocery Store   \n",
       "4            5               Coleman-Farley  Grocery Store   \n",
       "\n",
       "                                             Address            City  \\\n",
       "0  74347 Christopher Extensions\\nAndreamouth, OK ...     New Jessica   \n",
       "1           91228 Hanson Stream\\nWelchtown, OR 27136     East Sheena   \n",
       "2  561 Martinez Point Suite 507\\nGuzmanchester, W...  Lake Jesusview   \n",
       "3     467 Bell Trail Suite 409\\nPort Jesus, IA 61188     Mendezmouth   \n",
       "4  078 Matthew Creek Apt. 319\\nSaraborough, MA 53978   Valentineside   \n",
       "\n",
       "                Contact  \n",
       "0       +1-600-220-0480  \n",
       "1  +1-925-283-8901x6297  \n",
       "2      001-517-295-2206  \n",
       "3      556.944.8935x401  \n",
       "4          193.714.6577  "
      ],
      "text/html": [
       "<div>\n",
       "<style scoped>\n",
       "    .dataframe tbody tr th:only-of-type {\n",
       "        vertical-align: middle;\n",
       "    }\n",
       "\n",
       "    .dataframe tbody tr th {\n",
       "        vertical-align: top;\n",
       "    }\n",
       "\n",
       "    .dataframe thead th {\n",
       "        text-align: right;\n",
       "    }\n",
       "</style>\n",
       "<table border=\"1\" class=\"dataframe\">\n",
       "  <thead>\n",
       "    <tr style=\"text-align: right;\">\n",
       "      <th></th>\n",
       "      <th>Provider_ID</th>\n",
       "      <th>Name</th>\n",
       "      <th>Type</th>\n",
       "      <th>Address</th>\n",
       "      <th>City</th>\n",
       "      <th>Contact</th>\n",
       "    </tr>\n",
       "  </thead>\n",
       "  <tbody>\n",
       "    <tr>\n",
       "      <th>0</th>\n",
       "      <td>1</td>\n",
       "      <td>Gonzales-Cochran</td>\n",
       "      <td>Supermarket</td>\n",
       "      <td>74347 Christopher Extensions\\nAndreamouth, OK ...</td>\n",
       "      <td>New Jessica</td>\n",
       "      <td>+1-600-220-0480</td>\n",
       "    </tr>\n",
       "    <tr>\n",
       "      <th>1</th>\n",
       "      <td>2</td>\n",
       "      <td>Nielsen, Johnson and Fuller</td>\n",
       "      <td>Grocery Store</td>\n",
       "      <td>91228 Hanson Stream\\nWelchtown, OR 27136</td>\n",
       "      <td>East Sheena</td>\n",
       "      <td>+1-925-283-8901x6297</td>\n",
       "    </tr>\n",
       "    <tr>\n",
       "      <th>2</th>\n",
       "      <td>3</td>\n",
       "      <td>Miller-Black</td>\n",
       "      <td>Supermarket</td>\n",
       "      <td>561 Martinez Point Suite 507\\nGuzmanchester, W...</td>\n",
       "      <td>Lake Jesusview</td>\n",
       "      <td>001-517-295-2206</td>\n",
       "    </tr>\n",
       "    <tr>\n",
       "      <th>3</th>\n",
       "      <td>4</td>\n",
       "      <td>Clark, Prince and Williams</td>\n",
       "      <td>Grocery Store</td>\n",
       "      <td>467 Bell Trail Suite 409\\nPort Jesus, IA 61188</td>\n",
       "      <td>Mendezmouth</td>\n",
       "      <td>556.944.8935x401</td>\n",
       "    </tr>\n",
       "    <tr>\n",
       "      <th>4</th>\n",
       "      <td>5</td>\n",
       "      <td>Coleman-Farley</td>\n",
       "      <td>Grocery Store</td>\n",
       "      <td>078 Matthew Creek Apt. 319\\nSaraborough, MA 53978</td>\n",
       "      <td>Valentineside</td>\n",
       "      <td>193.714.6577</td>\n",
       "    </tr>\n",
       "  </tbody>\n",
       "</table>\n",
       "</div>"
      ]
     },
     "execution_count": 3,
     "metadata": {},
     "output_type": "execute_result"
    }
   ],
   "execution_count": 3
  },
  {
   "metadata": {
    "ExecuteTime": {
     "end_time": "2025-08-15T09:01:31.979691Z",
     "start_time": "2025-08-15T09:01:31.974452Z"
    }
   },
   "cell_type": "code",
   "source": [
    "# Dataset 2 First Look\n",
    "\n",
    "receivers.head()"
   ],
   "id": "342c03bda02272ff",
   "outputs": [
    {
     "data": {
      "text/plain": [
       "   Receiver_ID          Name        Type               City           Contact\n",
       "0            1  Donald Gomez     Shelter     Port Carlburgh     (955)922-5295\n",
       "1            2  Laurie Ramos  Individual         Lewisburgh      761.042.1570\n",
       "2            3  Ashley Mckee         NGO  South Randalltown  691-023-0094x856\n",
       "3            4    Erika Rose         NGO   South Shaneville        8296491111\n",
       "4            5   John Romero  Individual          Bakerport      067.491.0154"
      ],
      "text/html": [
       "<div>\n",
       "<style scoped>\n",
       "    .dataframe tbody tr th:only-of-type {\n",
       "        vertical-align: middle;\n",
       "    }\n",
       "\n",
       "    .dataframe tbody tr th {\n",
       "        vertical-align: top;\n",
       "    }\n",
       "\n",
       "    .dataframe thead th {\n",
       "        text-align: right;\n",
       "    }\n",
       "</style>\n",
       "<table border=\"1\" class=\"dataframe\">\n",
       "  <thead>\n",
       "    <tr style=\"text-align: right;\">\n",
       "      <th></th>\n",
       "      <th>Receiver_ID</th>\n",
       "      <th>Name</th>\n",
       "      <th>Type</th>\n",
       "      <th>City</th>\n",
       "      <th>Contact</th>\n",
       "    </tr>\n",
       "  </thead>\n",
       "  <tbody>\n",
       "    <tr>\n",
       "      <th>0</th>\n",
       "      <td>1</td>\n",
       "      <td>Donald Gomez</td>\n",
       "      <td>Shelter</td>\n",
       "      <td>Port Carlburgh</td>\n",
       "      <td>(955)922-5295</td>\n",
       "    </tr>\n",
       "    <tr>\n",
       "      <th>1</th>\n",
       "      <td>2</td>\n",
       "      <td>Laurie Ramos</td>\n",
       "      <td>Individual</td>\n",
       "      <td>Lewisburgh</td>\n",
       "      <td>761.042.1570</td>\n",
       "    </tr>\n",
       "    <tr>\n",
       "      <th>2</th>\n",
       "      <td>3</td>\n",
       "      <td>Ashley Mckee</td>\n",
       "      <td>NGO</td>\n",
       "      <td>South Randalltown</td>\n",
       "      <td>691-023-0094x856</td>\n",
       "    </tr>\n",
       "    <tr>\n",
       "      <th>3</th>\n",
       "      <td>4</td>\n",
       "      <td>Erika Rose</td>\n",
       "      <td>NGO</td>\n",
       "      <td>South Shaneville</td>\n",
       "      <td>8296491111</td>\n",
       "    </tr>\n",
       "    <tr>\n",
       "      <th>4</th>\n",
       "      <td>5</td>\n",
       "      <td>John Romero</td>\n",
       "      <td>Individual</td>\n",
       "      <td>Bakerport</td>\n",
       "      <td>067.491.0154</td>\n",
       "    </tr>\n",
       "  </tbody>\n",
       "</table>\n",
       "</div>"
      ]
     },
     "execution_count": 4,
     "metadata": {},
     "output_type": "execute_result"
    }
   ],
   "execution_count": 4
  },
  {
   "metadata": {
    "ExecuteTime": {
     "end_time": "2025-08-15T09:01:32.013606Z",
     "start_time": "2025-08-15T09:01:32.007773Z"
    }
   },
   "cell_type": "code",
   "source": [
    "# Dataset 3 First Look\n",
    "\n",
    "food_listings.head()"
   ],
   "id": "979470a364b33bbe",
   "outputs": [
    {
     "data": {
      "text/plain": [
       "   Food_ID Food_Name  Quantity Expiry_Date  Provider_ID     Provider_Type  \\\n",
       "0        1     Bread        43   3/17/2025          110     Grocery Store   \n",
       "1        2      Soup        22   3/24/2025          791     Grocery Store   \n",
       "2        3    Fruits        46   3/28/2025          478  Catering Service   \n",
       "3        4    Fruits        15   3/16/2025          930        Restaurant   \n",
       "4        5      Soup        14   3/19/2025          279        Restaurant   \n",
       "\n",
       "           Location       Food_Type  Meal_Type  \n",
       "0  South Kellyville  Non-Vegetarian  Breakfast  \n",
       "1        West James  Non-Vegetarian     Dinner  \n",
       "2       Lake Regina           Vegan  Breakfast  \n",
       "3         Kellytown           Vegan      Lunch  \n",
       "4        Garciaport           Vegan     Dinner  "
      ],
      "text/html": [
       "<div>\n",
       "<style scoped>\n",
       "    .dataframe tbody tr th:only-of-type {\n",
       "        vertical-align: middle;\n",
       "    }\n",
       "\n",
       "    .dataframe tbody tr th {\n",
       "        vertical-align: top;\n",
       "    }\n",
       "\n",
       "    .dataframe thead th {\n",
       "        text-align: right;\n",
       "    }\n",
       "</style>\n",
       "<table border=\"1\" class=\"dataframe\">\n",
       "  <thead>\n",
       "    <tr style=\"text-align: right;\">\n",
       "      <th></th>\n",
       "      <th>Food_ID</th>\n",
       "      <th>Food_Name</th>\n",
       "      <th>Quantity</th>\n",
       "      <th>Expiry_Date</th>\n",
       "      <th>Provider_ID</th>\n",
       "      <th>Provider_Type</th>\n",
       "      <th>Location</th>\n",
       "      <th>Food_Type</th>\n",
       "      <th>Meal_Type</th>\n",
       "    </tr>\n",
       "  </thead>\n",
       "  <tbody>\n",
       "    <tr>\n",
       "      <th>0</th>\n",
       "      <td>1</td>\n",
       "      <td>Bread</td>\n",
       "      <td>43</td>\n",
       "      <td>3/17/2025</td>\n",
       "      <td>110</td>\n",
       "      <td>Grocery Store</td>\n",
       "      <td>South Kellyville</td>\n",
       "      <td>Non-Vegetarian</td>\n",
       "      <td>Breakfast</td>\n",
       "    </tr>\n",
       "    <tr>\n",
       "      <th>1</th>\n",
       "      <td>2</td>\n",
       "      <td>Soup</td>\n",
       "      <td>22</td>\n",
       "      <td>3/24/2025</td>\n",
       "      <td>791</td>\n",
       "      <td>Grocery Store</td>\n",
       "      <td>West James</td>\n",
       "      <td>Non-Vegetarian</td>\n",
       "      <td>Dinner</td>\n",
       "    </tr>\n",
       "    <tr>\n",
       "      <th>2</th>\n",
       "      <td>3</td>\n",
       "      <td>Fruits</td>\n",
       "      <td>46</td>\n",
       "      <td>3/28/2025</td>\n",
       "      <td>478</td>\n",
       "      <td>Catering Service</td>\n",
       "      <td>Lake Regina</td>\n",
       "      <td>Vegan</td>\n",
       "      <td>Breakfast</td>\n",
       "    </tr>\n",
       "    <tr>\n",
       "      <th>3</th>\n",
       "      <td>4</td>\n",
       "      <td>Fruits</td>\n",
       "      <td>15</td>\n",
       "      <td>3/16/2025</td>\n",
       "      <td>930</td>\n",
       "      <td>Restaurant</td>\n",
       "      <td>Kellytown</td>\n",
       "      <td>Vegan</td>\n",
       "      <td>Lunch</td>\n",
       "    </tr>\n",
       "    <tr>\n",
       "      <th>4</th>\n",
       "      <td>5</td>\n",
       "      <td>Soup</td>\n",
       "      <td>14</td>\n",
       "      <td>3/19/2025</td>\n",
       "      <td>279</td>\n",
       "      <td>Restaurant</td>\n",
       "      <td>Garciaport</td>\n",
       "      <td>Vegan</td>\n",
       "      <td>Dinner</td>\n",
       "    </tr>\n",
       "  </tbody>\n",
       "</table>\n",
       "</div>"
      ]
     },
     "execution_count": 5,
     "metadata": {},
     "output_type": "execute_result"
    }
   ],
   "execution_count": 5
  },
  {
   "metadata": {
    "ExecuteTime": {
     "end_time": "2025-08-15T09:01:32.035625Z",
     "start_time": "2025-08-15T09:01:32.030834Z"
    }
   },
   "cell_type": "code",
   "source": [
    "# Dataset 4 First Look\n",
    "\n",
    "claims.head()"
   ],
   "id": "38e270dcb4fa267d",
   "outputs": [
    {
     "data": {
      "text/plain": [
       "   Claim_ID  Food_ID  Receiver_ID     Status        Timestamp\n",
       "0         1      164          908    Pending    3/5/2025 5:26\n",
       "1         2      353          391  Cancelled  3/11/2025 10:24\n",
       "2         3      626          492  Completed   3/21/2025 0:59\n",
       "3         4       61          933  Cancelled    3/4/2025 9:08\n",
       "4         5      345          229    Pending  3/14/2025 15:17"
      ],
      "text/html": [
       "<div>\n",
       "<style scoped>\n",
       "    .dataframe tbody tr th:only-of-type {\n",
       "        vertical-align: middle;\n",
       "    }\n",
       "\n",
       "    .dataframe tbody tr th {\n",
       "        vertical-align: top;\n",
       "    }\n",
       "\n",
       "    .dataframe thead th {\n",
       "        text-align: right;\n",
       "    }\n",
       "</style>\n",
       "<table border=\"1\" class=\"dataframe\">\n",
       "  <thead>\n",
       "    <tr style=\"text-align: right;\">\n",
       "      <th></th>\n",
       "      <th>Claim_ID</th>\n",
       "      <th>Food_ID</th>\n",
       "      <th>Receiver_ID</th>\n",
       "      <th>Status</th>\n",
       "      <th>Timestamp</th>\n",
       "    </tr>\n",
       "  </thead>\n",
       "  <tbody>\n",
       "    <tr>\n",
       "      <th>0</th>\n",
       "      <td>1</td>\n",
       "      <td>164</td>\n",
       "      <td>908</td>\n",
       "      <td>Pending</td>\n",
       "      <td>3/5/2025 5:26</td>\n",
       "    </tr>\n",
       "    <tr>\n",
       "      <th>1</th>\n",
       "      <td>2</td>\n",
       "      <td>353</td>\n",
       "      <td>391</td>\n",
       "      <td>Cancelled</td>\n",
       "      <td>3/11/2025 10:24</td>\n",
       "    </tr>\n",
       "    <tr>\n",
       "      <th>2</th>\n",
       "      <td>3</td>\n",
       "      <td>626</td>\n",
       "      <td>492</td>\n",
       "      <td>Completed</td>\n",
       "      <td>3/21/2025 0:59</td>\n",
       "    </tr>\n",
       "    <tr>\n",
       "      <th>3</th>\n",
       "      <td>4</td>\n",
       "      <td>61</td>\n",
       "      <td>933</td>\n",
       "      <td>Cancelled</td>\n",
       "      <td>3/4/2025 9:08</td>\n",
       "    </tr>\n",
       "    <tr>\n",
       "      <th>4</th>\n",
       "      <td>5</td>\n",
       "      <td>345</td>\n",
       "      <td>229</td>\n",
       "      <td>Pending</td>\n",
       "      <td>3/14/2025 15:17</td>\n",
       "    </tr>\n",
       "  </tbody>\n",
       "</table>\n",
       "</div>"
      ]
     },
     "execution_count": 6,
     "metadata": {},
     "output_type": "execute_result"
    }
   ],
   "execution_count": 6
  },
  {
   "metadata": {},
   "cell_type": "markdown",
   "source": "#### Dataset Rows and Columns",
   "id": "58cfda5929b0c1c8"
  },
  {
   "metadata": {
    "ExecuteTime": {
     "end_time": "2025-08-15T09:01:32.060229Z",
     "start_time": "2025-08-15T09:01:32.057017Z"
    }
   },
   "cell_type": "code",
   "source": [
    "# Dataset 1 Shape\n",
    "\n",
    "providers.shape"
   ],
   "id": "b4386598d1db1166",
   "outputs": [
    {
     "data": {
      "text/plain": [
       "(1000, 6)"
      ]
     },
     "execution_count": 7,
     "metadata": {},
     "output_type": "execute_result"
    }
   ],
   "execution_count": 7
  },
  {
   "metadata": {
    "ExecuteTime": {
     "end_time": "2025-08-15T09:01:32.085391Z",
     "start_time": "2025-08-15T09:01:32.081734Z"
    }
   },
   "cell_type": "code",
   "source": [
    "# Dataset 2 Shape\n",
    "\n",
    "receivers.shape"
   ],
   "id": "66c611922fe09106",
   "outputs": [
    {
     "data": {
      "text/plain": [
       "(1000, 5)"
      ]
     },
     "execution_count": 8,
     "metadata": {},
     "output_type": "execute_result"
    }
   ],
   "execution_count": 8
  },
  {
   "metadata": {
    "ExecuteTime": {
     "end_time": "2025-08-15T09:01:32.115097Z",
     "start_time": "2025-08-15T09:01:32.112100Z"
    }
   },
   "cell_type": "code",
   "source": [
    "# Dataset 3 Shape\n",
    "\n",
    "food_listings.shape"
   ],
   "id": "5bd9d9d65d3cbf8b",
   "outputs": [
    {
     "data": {
      "text/plain": [
       "(1000, 9)"
      ]
     },
     "execution_count": 9,
     "metadata": {},
     "output_type": "execute_result"
    }
   ],
   "execution_count": 9
  },
  {
   "metadata": {
    "ExecuteTime": {
     "end_time": "2025-08-15T09:01:32.140976Z",
     "start_time": "2025-08-15T09:01:32.138035Z"
    }
   },
   "cell_type": "code",
   "source": [
    "# Dataset 4 Shape\n",
    "\n",
    "claims.shape"
   ],
   "id": "6af84228051ef25c",
   "outputs": [
    {
     "data": {
      "text/plain": [
       "(1000, 5)"
      ]
     },
     "execution_count": 10,
     "metadata": {},
     "output_type": "execute_result"
    }
   ],
   "execution_count": 10
  },
  {
   "metadata": {},
   "cell_type": "markdown",
   "source": "#### Duplicate Values",
   "id": "f259301d19d91663"
  },
  {
   "metadata": {
    "ExecuteTime": {
     "end_time": "2025-08-15T09:01:32.177920Z",
     "start_time": "2025-08-15T09:01:32.171422Z"
    }
   },
   "cell_type": "code",
   "source": [
    "# Dataset 1 duplicate values\n",
    "\n",
    "providers.duplicated().sum()"
   ],
   "id": "c6203a463bb06b5",
   "outputs": [
    {
     "data": {
      "text/plain": [
       "np.int64(0)"
      ]
     },
     "execution_count": 11,
     "metadata": {},
     "output_type": "execute_result"
    }
   ],
   "execution_count": 11
  },
  {
   "metadata": {
    "ExecuteTime": {
     "end_time": "2025-08-15T09:01:32.200680Z",
     "start_time": "2025-08-15T09:01:32.197302Z"
    }
   },
   "cell_type": "code",
   "source": [
    "# Dataset 2 duplicate values\n",
    "\n",
    "receivers.duplicated().sum()"
   ],
   "id": "3f41fd2c922009c1",
   "outputs": [
    {
     "data": {
      "text/plain": [
       "np.int64(0)"
      ]
     },
     "execution_count": 12,
     "metadata": {},
     "output_type": "execute_result"
    }
   ],
   "execution_count": 12
  },
  {
   "metadata": {
    "ExecuteTime": {
     "end_time": "2025-08-15T09:01:32.228212Z",
     "start_time": "2025-08-15T09:01:32.224569Z"
    }
   },
   "cell_type": "code",
   "source": [
    "# Dataset 3 duplicate values\n",
    "\n",
    "food_listings.duplicated().sum()"
   ],
   "id": "d1cf3b718e8ac156",
   "outputs": [
    {
     "data": {
      "text/plain": [
       "np.int64(0)"
      ]
     },
     "execution_count": 13,
     "metadata": {},
     "output_type": "execute_result"
    }
   ],
   "execution_count": 13
  },
  {
   "metadata": {
    "ExecuteTime": {
     "end_time": "2025-08-15T09:01:32.250067Z",
     "start_time": "2025-08-15T09:01:32.246908Z"
    }
   },
   "cell_type": "code",
   "source": [
    "# Dataset 4 duplicate values\n",
    "\n",
    "claims.duplicated().sum()"
   ],
   "id": "178d046fba3ebad",
   "outputs": [
    {
     "data": {
      "text/plain": [
       "np.int64(0)"
      ]
     },
     "execution_count": 14,
     "metadata": {},
     "output_type": "execute_result"
    }
   ],
   "execution_count": 14
  },
  {
   "metadata": {},
   "cell_type": "markdown",
   "source": "#### Null Values",
   "id": "249f9e2c46b204f7"
  },
  {
   "metadata": {
    "ExecuteTime": {
     "end_time": "2025-08-15T09:01:32.268383Z",
     "start_time": "2025-08-15T09:01:32.264995Z"
    }
   },
   "cell_type": "code",
   "source": [
    "# Dataset 1 Null Values\n",
    "\n",
    "providers.isnull().sum()"
   ],
   "id": "824242bb5f0c7a8c",
   "outputs": [
    {
     "data": {
      "text/plain": [
       "Provider_ID    0\n",
       "Name           0\n",
       "Type           0\n",
       "Address        0\n",
       "City           0\n",
       "Contact        0\n",
       "dtype: int64"
      ]
     },
     "execution_count": 15,
     "metadata": {},
     "output_type": "execute_result"
    }
   ],
   "execution_count": 15
  },
  {
   "metadata": {
    "ExecuteTime": {
     "end_time": "2025-08-15T09:01:32.293501Z",
     "start_time": "2025-08-15T09:01:32.290132Z"
    }
   },
   "cell_type": "code",
   "source": [
    "# Dataset 2 Null Values\n",
    "\n",
    "receivers.isnull().sum()"
   ],
   "id": "8b67c23c3b7ec0e5",
   "outputs": [
    {
     "data": {
      "text/plain": [
       "Receiver_ID    0\n",
       "Name           0\n",
       "Type           0\n",
       "City           0\n",
       "Contact        0\n",
       "dtype: int64"
      ]
     },
     "execution_count": 16,
     "metadata": {},
     "output_type": "execute_result"
    }
   ],
   "execution_count": 16
  },
  {
   "metadata": {
    "ExecuteTime": {
     "end_time": "2025-08-15T09:01:32.316637Z",
     "start_time": "2025-08-15T09:01:32.313386Z"
    }
   },
   "cell_type": "code",
   "source": [
    "# Dataset 3 Null Values\n",
    "\n",
    "food_listings.isnull().sum()"
   ],
   "id": "e4f7a0215ae319bb",
   "outputs": [
    {
     "data": {
      "text/plain": [
       "Food_ID          0\n",
       "Food_Name        0\n",
       "Quantity         0\n",
       "Expiry_Date      0\n",
       "Provider_ID      0\n",
       "Provider_Type    0\n",
       "Location         0\n",
       "Food_Type        0\n",
       "Meal_Type        0\n",
       "dtype: int64"
      ]
     },
     "execution_count": 17,
     "metadata": {},
     "output_type": "execute_result"
    }
   ],
   "execution_count": 17
  },
  {
   "metadata": {
    "ExecuteTime": {
     "end_time": "2025-08-15T09:01:32.339914Z",
     "start_time": "2025-08-15T09:01:32.336348Z"
    }
   },
   "cell_type": "code",
   "source": [
    "# Dataset 4 Null Values\n",
    "\n",
    "claims.isnull().sum()"
   ],
   "id": "3d7aef22c31234e9",
   "outputs": [
    {
     "data": {
      "text/plain": [
       "Claim_ID       0\n",
       "Food_ID        0\n",
       "Receiver_ID    0\n",
       "Status         0\n",
       "Timestamp      0\n",
       "dtype: int64"
      ]
     },
     "execution_count": 18,
     "metadata": {},
     "output_type": "execute_result"
    }
   ],
   "execution_count": 18
  },
  {
   "metadata": {},
   "cell_type": "markdown",
   "source": "### Database Creation",
   "id": "746f4327fa7ae6bc"
  },
  {
   "metadata": {
    "ExecuteTime": {
     "end_time": "2025-08-15T09:01:32.386342Z",
     "start_time": "2025-08-15T09:01:32.359242Z"
    }
   },
   "cell_type": "code",
   "source": [
    "# Essential Imports\n",
    "import mysql.connector"
   ],
   "id": "834be898d933b2d4",
   "outputs": [],
   "execution_count": 19
  },
  {
   "metadata": {
    "ExecuteTime": {
     "end_time": "2025-08-15T09:01:32.407400Z",
     "start_time": "2025-08-15T09:01:32.391232Z"
    }
   },
   "cell_type": "code",
   "source": [
    "# MySQL connection setup\n",
    "conn = mysql.connector.connect(\n",
    "    host=\"localhost\",\n",
    "    user=\"root\",\n",
    "    password=\"Aries@123\"\n",
    ")"
   ],
   "id": "93d73504334098dd",
   "outputs": [],
   "execution_count": 20
  },
  {
   "metadata": {
    "ExecuteTime": {
     "end_time": "2025-08-15T09:01:32.414930Z",
     "start_time": "2025-08-15T09:01:32.412831Z"
    }
   },
   "cell_type": "code",
   "source": [
    "# Define the cursor\n",
    "cursor = conn.cursor()"
   ],
   "id": "a93d7ecf41249e84",
   "outputs": [],
   "execution_count": 21
  },
  {
   "metadata": {
    "ExecuteTime": {
     "end_time": "2025-08-15T09:01:32.429138Z",
     "start_time": "2025-08-15T09:01:32.422170Z"
    }
   },
   "cell_type": "code",
   "source": [
    "# Create the database\n",
    "cursor.execute(\"CREATE DATABASE IF NOT EXISTS FOOD\")"
   ],
   "id": "748f483c93f74b4e",
   "outputs": [],
   "execution_count": 22
  },
  {
   "metadata": {
    "ExecuteTime": {
     "end_time": "2025-08-15T09:01:32.437643Z",
     "start_time": "2025-08-15T09:01:32.435129Z"
    }
   },
   "cell_type": "code",
   "source": [
    "# Use the database\n",
    "cursor.execute(\"USE FOOD\")"
   ],
   "id": "9ccb8bfcaf57949",
   "outputs": [],
   "execution_count": 23
  },
  {
   "metadata": {},
   "cell_type": "markdown",
   "source": "#### Create Tables",
   "id": "c9c64a3fb2ffc449"
  },
  {
   "metadata": {
    "ExecuteTime": {
     "end_time": "2025-08-15T09:01:32.451048Z",
     "start_time": "2025-08-15T09:01:32.443874Z"
    }
   },
   "cell_type": "code",
   "source": [
    "# Create provider table\n",
    "\n",
    "cursor.execute(\"\"\"\n",
    "    CREATE TABLE IF NOT EXISTS providers (\n",
    "        Provider_ID INT PRIMARY KEY,\n",
    "        Name VARCHAR(255),\n",
    "        Type VARCHAR(100),\n",
    "        Address TEXT,\n",
    "        City VARCHAR(100),\n",
    "        Contact VARCHAR(50)\n",
    "    );\n",
    "\"\"\")\n",
    "conn.commit()"
   ],
   "id": "3b9b82f3a7b2cc41",
   "outputs": [],
   "execution_count": 24
  },
  {
   "metadata": {
    "ExecuteTime": {
     "end_time": "2025-08-15T09:01:32.459310Z",
     "start_time": "2025-08-15T09:01:32.456659Z"
    }
   },
   "cell_type": "code",
   "source": [
    "# Create receiver table\n",
    "\n",
    "cursor.execute(\"\"\"\n",
    "    CREATE TABLE IF NOT EXISTS receivers (\n",
    "        Receiver_ID INT PRIMARY KEY,\n",
    "        Name VARCHAR(255),\n",
    "        Type VARCHAR(100),\n",
    "        City VARCHAR(100),\n",
    "        Contact VARCHAR(50)\n",
    "    );\n",
    "\"\"\")\n",
    "conn.commit()"
   ],
   "id": "2a46063d02dd4f7f",
   "outputs": [],
   "execution_count": 25
  },
  {
   "metadata": {
    "ExecuteTime": {
     "end_time": "2025-08-15T09:01:32.468434Z",
     "start_time": "2025-08-15T09:01:32.465546Z"
    }
   },
   "cell_type": "code",
   "source": [
    "# Create food listing table\n",
    "\n",
    "cursor.execute(\"\"\"\n",
    "    CREATE TABLE IF NOT EXISTS food_listings (\n",
    "        Food_ID INT PRIMARY KEY,\n",
    "        Food_Name VARCHAR(255),\n",
    "        Quantity INT,\n",
    "        Expiry_Date DATE,\n",
    "        Provider_ID INT,\n",
    "        Provider_Type VARCHAR(100),\n",
    "        Location VARCHAR(100),\n",
    "        Food_Type VARCHAR(100),\n",
    "        Meal_Type VARCHAR(100),\n",
    "\n",
    "        FOREIGN KEY (Provider_ID) REFERENCES providers(Provider_ID)\n",
    "    );\n",
    "\"\"\")\n",
    "conn.commit()"
   ],
   "id": "f6415203ceb3ceef",
   "outputs": [],
   "execution_count": 26
  },
  {
   "metadata": {
    "ExecuteTime": {
     "end_time": "2025-08-15T09:01:32.479378Z",
     "start_time": "2025-08-15T09:01:32.476166Z"
    }
   },
   "cell_type": "code",
   "source": [
    "# Create claims Table\n",
    "\n",
    "cursor.execute(\"\"\"\n",
    "    CREATE TABLE IF NOT EXISTS claims (\n",
    "        Claim_ID INT PRIMARY KEY,\n",
    "        Food_ID INT,\n",
    "        Receiver_ID INT,\n",
    "        Status VARCHAR(100),\n",
    "        Timestamp DATETIME,\n",
    "\n",
    "        FOREIGN KEY (Food_ID) REFERENCES food_listings(Food_ID),\n",
    "        FOREIGN KEY (Receiver_ID) REFERENCES receivers(Receiver_ID)\n",
    "    );\n",
    "\"\"\")\n",
    "conn.commit()"
   ],
   "id": "8636415ced2a9dff",
   "outputs": [],
   "execution_count": 27
  },
  {
   "metadata": {},
   "cell_type": "markdown",
   "source": "#### Insert Data Into Tables",
   "id": "a451022666db73c"
  },
  {
   "metadata": {
    "ExecuteTime": {
     "end_time": "2025-08-15T09:01:32.490851Z",
     "start_time": "2025-08-15T09:01:32.485724Z"
    }
   },
   "cell_type": "code",
   "source": [
    "for index, row in providers.iterrows():\n",
    "    try:\n",
    "        cursor.execute(\"\"\"\n",
    "            INSERT INTO providers (Provider_ID, Name, Type, Address, City, Contact)\n",
    "            VALUES (%s, %s, %s, %s, %s, %s)\n",
    "        \"\"\", tuple(row))\n",
    "\n",
    "    # Exception is used to prevent error when same records are inserted again\n",
    "    except Exception as e:\n",
    "        print(f\"Unexpected error inserting into Providers Table\")\n",
    "        break\n",
    "\n",
    "conn.commit()\n"
   ],
   "id": "b984029ccf25ee03",
   "outputs": [
    {
     "name": "stdout",
     "output_type": "stream",
     "text": [
      "Unexpected error inserting into Providers Table\n"
     ]
    }
   ],
   "execution_count": 28
  },
  {
   "metadata": {
    "ExecuteTime": {
     "end_time": "2025-08-15T09:01:32.500155Z",
     "start_time": "2025-08-15T09:01:32.497191Z"
    }
   },
   "cell_type": "code",
   "source": [
    "# Insert into receivers\n",
    "for index, row in receivers.iterrows():\n",
    "    try:\n",
    "        cursor.execute(\"\"\"\n",
    "            INSERT INTO receivers (Receiver_ID, Name, Type, City, Contact)\n",
    "            VALUES (%s, %s, %s, %s, %s)\n",
    "        \"\"\", tuple(row))\n",
    "\n",
    "    # Exception is used to prevent error when same records are inserted again\n",
    "    except Exception as e:\n",
    "        print(f\"Unexpected error inserting into Receivers Table\")\n",
    "        break\n",
    "\n",
    "conn.commit()"
   ],
   "id": "e256ad8f9a1274cf",
   "outputs": [
    {
     "name": "stdout",
     "output_type": "stream",
     "text": [
      "Unexpected error inserting into Receivers Table\n"
     ]
    }
   ],
   "execution_count": 29
  },
  {
   "metadata": {
    "ExecuteTime": {
     "end_time": "2025-08-15T09:01:32.524579Z",
     "start_time": "2025-08-15T09:01:32.520697Z"
    }
   },
   "cell_type": "code",
   "source": [
    "# Insert into food listings\n",
    "from datetime import datetime\n",
    "\n",
    "for index, row in food_listings.iterrows():\n",
    "    try:\n",
    "        # Convert Expiry_Date to YYYY-MM-DD\n",
    "        if isinstance(row['Expiry_Date'], str):\n",
    "            row['Expiry_Date'] = datetime.strptime(row['Expiry_Date'], \"%m/%d/%Y\").date()\n",
    "\n",
    "        cursor.execute(\"\"\"\n",
    "            INSERT INTO food_listings\n",
    "            (Food_ID, Food_Name, Quantity, Expiry_Date, Provider_ID, Provider_Type, Location, Food_Type, Meal_Type)\n",
    "            VALUES (%s, %s, %s, %s, %s, %s, %s, %s, %s)\n",
    "        \"\"\", tuple(row))\n",
    "\n",
    "    # Exception is used to prevent error when same records are inserted again\n",
    "    except Exception as e:\n",
    "        print(f\"Unexpected error inserting into Food Listings table\")\n",
    "        break\n",
    "\n",
    "conn.commit()\n"
   ],
   "id": "88d465b08f18f0f9",
   "outputs": [
    {
     "name": "stdout",
     "output_type": "stream",
     "text": [
      "Unexpected error inserting into Food Listings table\n"
     ]
    }
   ],
   "execution_count": 30
  },
  {
   "metadata": {
    "ExecuteTime": {
     "end_time": "2025-08-15T09:01:32.543730Z",
     "start_time": "2025-08-15T09:01:32.540460Z"
    }
   },
   "cell_type": "code",
   "source": [
    "# Insert into claim\n",
    "\n",
    "from datetime import datetime\n",
    "\n",
    "for index, row in claims.iterrows():\n",
    "    try:\n",
    "        if isinstance(row['Timestamp'], str):\n",
    "            row['Timestamp'] = datetime.strptime(row['Timestamp'], \"%m/%d/%Y %H:%M\")\n",
    "\n",
    "        cursor.execute(\"\"\"\n",
    "            INSERT INTO claims (Claim_ID, Food_ID, Receiver_ID, Status, Timestamp)\n",
    "            VALUES (%s, %s, %s, %s, %s)\n",
    "        \"\"\", tuple(row))\n",
    "\n",
    "    # Exception is used to prevent error when same records are inserted again\n",
    "    except Exception as e:\n",
    "        print(f\"Unexpected error inserting into Claims Table\")\n",
    "        break\n",
    "\n",
    "conn.commit()"
   ],
   "id": "baff4dbf04c71108",
   "outputs": [
    {
     "name": "stdout",
     "output_type": "stream",
     "text": [
      "Unexpected error inserting into Claims Table\n"
     ]
    }
   ],
   "execution_count": 31
  },
  {
   "metadata": {},
   "cell_type": "markdown",
   "source": "### Data Analysis",
   "id": "94172b941bec16ad"
  },
  {
   "metadata": {},
   "cell_type": "markdown",
   "source": "#### Query 1",
   "id": "51c4a951537da484"
  },
  {
   "metadata": {
    "ExecuteTime": {
     "end_time": "2025-08-15T09:01:32.569062Z",
     "start_time": "2025-08-15T09:01:32.561692Z"
    }
   },
   "cell_type": "code",
   "source": [
    "# SQL Queries\n",
    "\n",
    "# 1) How many food providers and receivers are there in each city?\n",
    "\n",
    "query1_1 = \"Select City, count(*) as Provider_Count from providers group by City order by Provider_Count desc;\"\n",
    "query1_2 = \"Select City, count(*) as Receiver_Count from receivers group by City order by Receiver_Count desc;\"\n",
    "\n",
    "cursor.execute(query1_1)\n",
    "query1_1_result = cursor.fetchall()\n",
    "\n",
    "cursor.execute(query1_2)\n",
    "query1_2_result = cursor.fetchall()"
   ],
   "id": "a010da5df9df2d8",
   "outputs": [],
   "execution_count": 32
  },
  {
   "metadata": {
    "ExecuteTime": {
     "end_time": "2025-08-15T09:01:32.582666Z",
     "start_time": "2025-08-15T09:01:32.580213Z"
    }
   },
   "cell_type": "code",
   "source": [
    "query1_1_df = pd.DataFrame(query1_1_result, columns=[\"City\", \"Provider Count\"])\n",
    "query1_2_df = pd.DataFrame(query1_2_result, columns=[\"City\", \"Receiver Count\"])"
   ],
   "id": "60eb4d1e9eee5b5b",
   "outputs": [],
   "execution_count": 33
  },
  {
   "metadata": {
    "ExecuteTime": {
     "end_time": "2025-08-15T09:01:32.592609Z",
     "start_time": "2025-08-15T09:01:32.588111Z"
    }
   },
   "cell_type": "code",
   "source": "query1_1_df",
   "id": "f580a5fbbe01125f",
   "outputs": [
    {
     "data": {
      "text/plain": [
       "                         City  Provider Count\n",
       "0                   New Carol               3\n",
       "1    South Christopherborough               3\n",
       "2                  New Amanda               2\n",
       "3            North Kevinhaven               2\n",
       "4                   Lake Kyle               2\n",
       "..                        ...             ...\n",
       "958              Manningshire               1\n",
       "959             East Rossside               1\n",
       "960                Joshuastad               1\n",
       "961             Stevenchester               1\n",
       "962               Brendantown               1\n",
       "\n",
       "[963 rows x 2 columns]"
      ],
      "text/html": [
       "<div>\n",
       "<style scoped>\n",
       "    .dataframe tbody tr th:only-of-type {\n",
       "        vertical-align: middle;\n",
       "    }\n",
       "\n",
       "    .dataframe tbody tr th {\n",
       "        vertical-align: top;\n",
       "    }\n",
       "\n",
       "    .dataframe thead th {\n",
       "        text-align: right;\n",
       "    }\n",
       "</style>\n",
       "<table border=\"1\" class=\"dataframe\">\n",
       "  <thead>\n",
       "    <tr style=\"text-align: right;\">\n",
       "      <th></th>\n",
       "      <th>City</th>\n",
       "      <th>Provider Count</th>\n",
       "    </tr>\n",
       "  </thead>\n",
       "  <tbody>\n",
       "    <tr>\n",
       "      <th>0</th>\n",
       "      <td>New Carol</td>\n",
       "      <td>3</td>\n",
       "    </tr>\n",
       "    <tr>\n",
       "      <th>1</th>\n",
       "      <td>South Christopherborough</td>\n",
       "      <td>3</td>\n",
       "    </tr>\n",
       "    <tr>\n",
       "      <th>2</th>\n",
       "      <td>New Amanda</td>\n",
       "      <td>2</td>\n",
       "    </tr>\n",
       "    <tr>\n",
       "      <th>3</th>\n",
       "      <td>North Kevinhaven</td>\n",
       "      <td>2</td>\n",
       "    </tr>\n",
       "    <tr>\n",
       "      <th>4</th>\n",
       "      <td>Lake Kyle</td>\n",
       "      <td>2</td>\n",
       "    </tr>\n",
       "    <tr>\n",
       "      <th>...</th>\n",
       "      <td>...</td>\n",
       "      <td>...</td>\n",
       "    </tr>\n",
       "    <tr>\n",
       "      <th>958</th>\n",
       "      <td>Manningshire</td>\n",
       "      <td>1</td>\n",
       "    </tr>\n",
       "    <tr>\n",
       "      <th>959</th>\n",
       "      <td>East Rossside</td>\n",
       "      <td>1</td>\n",
       "    </tr>\n",
       "    <tr>\n",
       "      <th>960</th>\n",
       "      <td>Joshuastad</td>\n",
       "      <td>1</td>\n",
       "    </tr>\n",
       "    <tr>\n",
       "      <th>961</th>\n",
       "      <td>Stevenchester</td>\n",
       "      <td>1</td>\n",
       "    </tr>\n",
       "    <tr>\n",
       "      <th>962</th>\n",
       "      <td>Brendantown</td>\n",
       "      <td>1</td>\n",
       "    </tr>\n",
       "  </tbody>\n",
       "</table>\n",
       "<p>963 rows × 2 columns</p>\n",
       "</div>"
      ]
     },
     "execution_count": 34,
     "metadata": {},
     "output_type": "execute_result"
    }
   ],
   "execution_count": 34
  },
  {
   "metadata": {
    "ExecuteTime": {
     "end_time": "2025-08-15T09:01:32.620657Z",
     "start_time": "2025-08-15T09:01:32.604528Z"
    }
   },
   "cell_type": "code",
   "source": "query1_1_df.to_csv(\"Queries/query1_1_df.csv\", index=False)",
   "id": "bbe122667742ebd5",
   "outputs": [],
   "execution_count": 35
  },
  {
   "metadata": {
    "ExecuteTime": {
     "end_time": "2025-08-15T09:01:32.636226Z",
     "start_time": "2025-08-15T09:01:32.632157Z"
    }
   },
   "cell_type": "code",
   "source": "query1_2_df",
   "id": "4d5b31d18d2e2c72",
   "outputs": [
    {
     "data": {
      "text/plain": [
       "                City  Receiver Count\n",
       "0    New Christopher               3\n",
       "1       Spencermouth               2\n",
       "2       Moorechester               2\n",
       "3          Lake Mary               2\n",
       "4         Smithshire               2\n",
       "..               ...             ...\n",
       "961      Lanechester               1\n",
       "962       New Steven               1\n",
       "963     South Sandra               1\n",
       "964     Lake Jeffery               1\n",
       "965    Shelbychester               1\n",
       "\n",
       "[966 rows x 2 columns]"
      ],
      "text/html": [
       "<div>\n",
       "<style scoped>\n",
       "    .dataframe tbody tr th:only-of-type {\n",
       "        vertical-align: middle;\n",
       "    }\n",
       "\n",
       "    .dataframe tbody tr th {\n",
       "        vertical-align: top;\n",
       "    }\n",
       "\n",
       "    .dataframe thead th {\n",
       "        text-align: right;\n",
       "    }\n",
       "</style>\n",
       "<table border=\"1\" class=\"dataframe\">\n",
       "  <thead>\n",
       "    <tr style=\"text-align: right;\">\n",
       "      <th></th>\n",
       "      <th>City</th>\n",
       "      <th>Receiver Count</th>\n",
       "    </tr>\n",
       "  </thead>\n",
       "  <tbody>\n",
       "    <tr>\n",
       "      <th>0</th>\n",
       "      <td>New Christopher</td>\n",
       "      <td>3</td>\n",
       "    </tr>\n",
       "    <tr>\n",
       "      <th>1</th>\n",
       "      <td>Spencermouth</td>\n",
       "      <td>2</td>\n",
       "    </tr>\n",
       "    <tr>\n",
       "      <th>2</th>\n",
       "      <td>Moorechester</td>\n",
       "      <td>2</td>\n",
       "    </tr>\n",
       "    <tr>\n",
       "      <th>3</th>\n",
       "      <td>Lake Mary</td>\n",
       "      <td>2</td>\n",
       "    </tr>\n",
       "    <tr>\n",
       "      <th>4</th>\n",
       "      <td>Smithshire</td>\n",
       "      <td>2</td>\n",
       "    </tr>\n",
       "    <tr>\n",
       "      <th>...</th>\n",
       "      <td>...</td>\n",
       "      <td>...</td>\n",
       "    </tr>\n",
       "    <tr>\n",
       "      <th>961</th>\n",
       "      <td>Lanechester</td>\n",
       "      <td>1</td>\n",
       "    </tr>\n",
       "    <tr>\n",
       "      <th>962</th>\n",
       "      <td>New Steven</td>\n",
       "      <td>1</td>\n",
       "    </tr>\n",
       "    <tr>\n",
       "      <th>963</th>\n",
       "      <td>South Sandra</td>\n",
       "      <td>1</td>\n",
       "    </tr>\n",
       "    <tr>\n",
       "      <th>964</th>\n",
       "      <td>Lake Jeffery</td>\n",
       "      <td>1</td>\n",
       "    </tr>\n",
       "    <tr>\n",
       "      <th>965</th>\n",
       "      <td>Shelbychester</td>\n",
       "      <td>1</td>\n",
       "    </tr>\n",
       "  </tbody>\n",
       "</table>\n",
       "<p>966 rows × 2 columns</p>\n",
       "</div>"
      ]
     },
     "execution_count": 36,
     "metadata": {},
     "output_type": "execute_result"
    }
   ],
   "execution_count": 36
  },
  {
   "metadata": {
    "ExecuteTime": {
     "end_time": "2025-08-15T09:01:32.654400Z",
     "start_time": "2025-08-15T09:01:32.649925Z"
    }
   },
   "cell_type": "code",
   "source": "query1_2_df.to_csv(\"Queries/query1_2_df.csv\", index=False)",
   "id": "4d202d5a7e176efa",
   "outputs": [],
   "execution_count": 37
  },
  {
   "metadata": {},
   "cell_type": "markdown",
   "source": "#### Query 2",
   "id": "97ca453f7651dc64"
  },
  {
   "metadata": {
    "ExecuteTime": {
     "end_time": "2025-08-15T09:01:32.664021Z",
     "start_time": "2025-08-15T09:01:32.659796Z"
    }
   },
   "cell_type": "code",
   "source": [
    "# Which type of food provider (restaurant, grocery store, etc.) contributes the most food?\n",
    "\n",
    "query2 = \"select Provider_Type, sum(Quantity) as Total_Quantity from food_listings group by Provider_Type order by Total_Quantity desc\"\n",
    "\n",
    "cursor.execute(query2)\n",
    "query2_result = cursor.fetchall()"
   ],
   "id": "f69418f5d1996335",
   "outputs": [],
   "execution_count": 38
  },
  {
   "metadata": {
    "ExecuteTime": {
     "end_time": "2025-08-15T09:01:32.671781Z",
     "start_time": "2025-08-15T09:01:32.669455Z"
    }
   },
   "cell_type": "code",
   "source": "query2_df = pd.DataFrame(query2_result, columns=[\"Provider Type\", \"Total Quantity\"])",
   "id": "51f1f394f93af98c",
   "outputs": [],
   "execution_count": 39
  },
  {
   "metadata": {
    "ExecuteTime": {
     "end_time": "2025-08-15T09:01:32.680931Z",
     "start_time": "2025-08-15T09:01:32.676527Z"
    }
   },
   "cell_type": "code",
   "source": "query2_df",
   "id": "31fb4b6527bce97f",
   "outputs": [
    {
     "data": {
      "text/plain": [
       "      Provider Type Total Quantity\n",
       "0        Restaurant           6923\n",
       "1       Supermarket           6696\n",
       "2  Catering Service           6116\n",
       "3     Grocery Store           6059"
      ],
      "text/html": [
       "<div>\n",
       "<style scoped>\n",
       "    .dataframe tbody tr th:only-of-type {\n",
       "        vertical-align: middle;\n",
       "    }\n",
       "\n",
       "    .dataframe tbody tr th {\n",
       "        vertical-align: top;\n",
       "    }\n",
       "\n",
       "    .dataframe thead th {\n",
       "        text-align: right;\n",
       "    }\n",
       "</style>\n",
       "<table border=\"1\" class=\"dataframe\">\n",
       "  <thead>\n",
       "    <tr style=\"text-align: right;\">\n",
       "      <th></th>\n",
       "      <th>Provider Type</th>\n",
       "      <th>Total Quantity</th>\n",
       "    </tr>\n",
       "  </thead>\n",
       "  <tbody>\n",
       "    <tr>\n",
       "      <th>0</th>\n",
       "      <td>Restaurant</td>\n",
       "      <td>6923</td>\n",
       "    </tr>\n",
       "    <tr>\n",
       "      <th>1</th>\n",
       "      <td>Supermarket</td>\n",
       "      <td>6696</td>\n",
       "    </tr>\n",
       "    <tr>\n",
       "      <th>2</th>\n",
       "      <td>Catering Service</td>\n",
       "      <td>6116</td>\n",
       "    </tr>\n",
       "    <tr>\n",
       "      <th>3</th>\n",
       "      <td>Grocery Store</td>\n",
       "      <td>6059</td>\n",
       "    </tr>\n",
       "  </tbody>\n",
       "</table>\n",
       "</div>"
      ]
     },
     "execution_count": 40,
     "metadata": {},
     "output_type": "execute_result"
    }
   ],
   "execution_count": 40
  },
  {
   "metadata": {
    "ExecuteTime": {
     "end_time": "2025-08-15T09:01:32.757221Z",
     "start_time": "2025-08-15T09:01:32.691014Z"
    }
   },
   "cell_type": "code",
   "source": [
    "# Plot\n",
    "plt.figure(figsize=(8, 5))\n",
    "plt.bar(query2_df[\"Provider Type\"], query2_df[\"Total Quantity\"])\n",
    "plt.xlabel(\"Provider Type\")\n",
    "plt.ylabel(\"Total Quantity\")\n",
    "plt.title(\"Total Quantity by Provider Type\")\n",
    "plt.xticks(rotation=45)\n",
    "plt.tight_layout()\n",
    "plt.show()"
   ],
   "id": "cbb41d0addb72882",
   "outputs": [
    {
     "data": {
      "text/plain": [
       "<Figure size 800x500 with 1 Axes>"
      ],
      "image/png": "[encoded data removed]"
     },
     "metadata": {},
     "output_type": "display_data"
    }
   ],
   "execution_count": 41
  },
  {
   "metadata": {
    "ExecuteTime": {
     "end_time": "2025-08-15T09:01:32.765084Z",
     "start_time": "2025-08-15T09:01:32.762651Z"
    }
   },
   "cell_type": "code",
   "source": "query2_df.to_csv(\"Queries/query2_df.csv\", index=False)",
   "id": "edc861634abdce0e",
   "outputs": [],
   "execution_count": 42
  },
  {
   "metadata": {},
   "cell_type": "markdown",
   "source": "#### Query 3",
   "id": "a9dc5d64435e4191"
  },
  {
   "metadata": {
    "ExecuteTime": {
     "end_time": "2025-08-15T09:01:32.777945Z",
     "start_time": "2025-08-15T09:01:32.775109Z"
    }
   },
   "cell_type": "code",
   "source": [
    "# What is the contact information of food providers in a specific city?\n",
    "\n",
    "City = 'New Carol'\n",
    "query3 = f\"select Name, Contact from providers where City='{City}';\"\n",
    "\n",
    "cursor.execute(query3)\n",
    "query3_result = cursor.fetchall()"
   ],
   "id": "56dc7199368b7394",
   "outputs": [],
   "execution_count": 43
  },
  {
   "metadata": {
    "ExecuteTime": {
     "end_time": "2025-08-15T09:01:32.785566Z",
     "start_time": "2025-08-15T09:01:32.783762Z"
    }
   },
   "cell_type": "code",
   "source": "query3_df = pd.DataFrame(query3_result, columns=[\"Name\", \"Contact\"])",
   "id": "d86b8d2f731b8723",
   "outputs": [],
   "execution_count": 44
  },
  {
   "metadata": {
    "ExecuteTime": {
     "end_time": "2025-08-15T09:01:32.794250Z",
     "start_time": "2025-08-15T09:01:32.790724Z"
    }
   },
   "cell_type": "code",
   "source": "query3_df",
   "id": "b559bbb5a3bfc7aa",
   "outputs": [
    {
     "data": {
      "text/plain": [
       "                Name           Contact\n",
       "0  Bradford-Martinez      199.451.0254\n",
       "1        Hammond LLC  001-324-482-4894\n",
       "2       Hill-Russell      075.630.9218"
      ],
      "text/html": [
       "<div>\n",
       "<style scoped>\n",
       "    .dataframe tbody tr th:only-of-type {\n",
       "        vertical-align: middle;\n",
       "    }\n",
       "\n",
       "    .dataframe tbody tr th {\n",
       "        vertical-align: top;\n",
       "    }\n",
       "\n",
       "    .dataframe thead th {\n",
       "        text-align: right;\n",
       "    }\n",
       "</style>\n",
       "<table border=\"1\" class=\"dataframe\">\n",
       "  <thead>\n",
       "    <tr style=\"text-align: right;\">\n",
       "      <th></th>\n",
       "      <th>Name</th>\n",
       "      <th>Contact</th>\n",
       "    </tr>\n",
       "  </thead>\n",
       "  <tbody>\n",
       "    <tr>\n",
       "      <th>0</th>\n",
       "      <td>Bradford-Martinez</td>\n",
       "      <td>199.451.0254</td>\n",
       "    </tr>\n",
       "    <tr>\n",
       "      <th>1</th>\n",
       "      <td>Hammond LLC</td>\n",
       "      <td>001-324-482-4894</td>\n",
       "    </tr>\n",
       "    <tr>\n",
       "      <th>2</th>\n",
       "      <td>Hill-Russell</td>\n",
       "      <td>075.630.9218</td>\n",
       "    </tr>\n",
       "  </tbody>\n",
       "</table>\n",
       "</div>"
      ]
     },
     "execution_count": 45,
     "metadata": {},
     "output_type": "execute_result"
    }
   ],
   "execution_count": 45
  },
  {
   "metadata": {
    "ExecuteTime": {
     "end_time": "2025-08-15T09:01:32.807637Z",
     "start_time": "2025-08-15T09:01:32.805206Z"
    }
   },
   "cell_type": "code",
   "source": "query3_df.to_csv(\"Queries/query3_df.csv\", index=False)",
   "id": "b8b83639044c9eb6",
   "outputs": [],
   "execution_count": 46
  },
  {
   "metadata": {},
   "cell_type": "markdown",
   "source": "#### Query 4",
   "id": "1d8ea22fc0adddd8"
  },
  {
   "metadata": {
    "ExecuteTime": {
     "end_time": "2025-08-15T09:01:32.819808Z",
     "start_time": "2025-08-15T09:01:32.813842Z"
    }
   },
   "cell_type": "code",
   "source": [
    "# Which receivers have claimed the most food?\n",
    "\n",
    "query4 = \"\"\" select r.Receiver_ID, r.Name, count(c.Claim_ID) as No_of_Claims\n",
    "from receivers as r\n",
    "join claims as c\n",
    "on r.Receiver_ID = c.Receiver_ID\n",
    "where c.Status = 'Completed'\n",
    "group by r.Name, r.Receiver_ID\n",
    "order by No_of_Claims desc; \"\"\"\n",
    "\n",
    "cursor.execute(query4)\n",
    "query4_result = cursor.fetchall()"
   ],
   "id": "8a075bd5d6db5234",
   "outputs": [],
   "execution_count": 47
  },
  {
   "metadata": {
    "ExecuteTime": {
     "end_time": "2025-08-15T09:01:32.828993Z",
     "start_time": "2025-08-15T09:01:32.826758Z"
    }
   },
   "cell_type": "code",
   "source": "query4_df = pd.DataFrame(query4_result, columns=[\"Receiver ID\", \"Name\", \"No of Claims\"])",
   "id": "bc36387f3f299d02",
   "outputs": [],
   "execution_count": 48
  },
  {
   "metadata": {
    "ExecuteTime": {
     "end_time": "2025-08-15T09:01:32.839811Z",
     "start_time": "2025-08-15T09:01:32.835211Z"
    }
   },
   "cell_type": "code",
   "source": "query4_df",
   "id": "e68784df36a5deb2",
   "outputs": [
    {
     "data": {
      "text/plain": [
       "     Receiver ID             Name  No of Claims\n",
       "0             45     Derek Potter             3\n",
       "1            505  Alexandra Owens             3\n",
       "2            482  Timothy Garrett             3\n",
       "3            729     David Spence             2\n",
       "4            601   Peter Gonzalez             2\n",
       "..           ...              ...           ...\n",
       "288          553    Scott Proctor             1\n",
       "289          113   Jonathan Young             1\n",
       "290          875      Scott Smith             1\n",
       "291          394        Kyle Kerr             1\n",
       "292          211    Judy Griffith             1\n",
       "\n",
       "[293 rows x 3 columns]"
      ],
      "text/html": [
       "<div>\n",
       "<style scoped>\n",
       "    .dataframe tbody tr th:only-of-type {\n",
       "        vertical-align: middle;\n",
       "    }\n",
       "\n",
       "    .dataframe tbody tr th {\n",
       "        vertical-align: top;\n",
       "    }\n",
       "\n",
       "    .dataframe thead th {\n",
       "        text-align: right;\n",
       "    }\n",
       "</style>\n",
       "<table border=\"1\" class=\"dataframe\">\n",
       "  <thead>\n",
       "    <tr style=\"text-align: right;\">\n",
       "      <th></th>\n",
       "      <th>Receiver ID</th>\n",
       "      <th>Name</th>\n",
       "      <th>No of Claims</th>\n",
       "    </tr>\n",
       "  </thead>\n",
       "  <tbody>\n",
       "    <tr>\n",
       "      <th>0</th>\n",
       "      <td>45</td>\n",
       "      <td>Derek Potter</td>\n",
       "      <td>3</td>\n",
       "    </tr>\n",
       "    <tr>\n",
       "      <th>1</th>\n",
       "      <td>505</td>\n",
       "      <td>Alexandra Owens</td>\n",
       "      <td>3</td>\n",
       "    </tr>\n",
       "    <tr>\n",
       "      <th>2</th>\n",
       "      <td>482</td>\n",
       "      <td>Timothy Garrett</td>\n",
       "      <td>3</td>\n",
       "    </tr>\n",
       "    <tr>\n",
       "      <th>3</th>\n",
       "      <td>729</td>\n",
       "      <td>David Spence</td>\n",
       "      <td>2</td>\n",
       "    </tr>\n",
       "    <tr>\n",
       "      <th>4</th>\n",
       "      <td>601</td>\n",
       "      <td>Peter Gonzalez</td>\n",
       "      <td>2</td>\n",
       "    </tr>\n",
       "    <tr>\n",
       "      <th>...</th>\n",
       "      <td>...</td>\n",
       "      <td>...</td>\n",
       "      <td>...</td>\n",
       "    </tr>\n",
       "    <tr>\n",
       "      <th>288</th>\n",
       "      <td>553</td>\n",
       "      <td>Scott Proctor</td>\n",
       "      <td>1</td>\n",
       "    </tr>\n",
       "    <tr>\n",
       "      <th>289</th>\n",
       "      <td>113</td>\n",
       "      <td>Jonathan Young</td>\n",
       "      <td>1</td>\n",
       "    </tr>\n",
       "    <tr>\n",
       "      <th>290</th>\n",
       "      <td>875</td>\n",
       "      <td>Scott Smith</td>\n",
       "      <td>1</td>\n",
       "    </tr>\n",
       "    <tr>\n",
       "      <th>291</th>\n",
       "      <td>394</td>\n",
       "      <td>Kyle Kerr</td>\n",
       "      <td>1</td>\n",
       "    </tr>\n",
       "    <tr>\n",
       "      <th>292</th>\n",
       "      <td>211</td>\n",
       "      <td>Judy Griffith</td>\n",
       "      <td>1</td>\n",
       "    </tr>\n",
       "  </tbody>\n",
       "</table>\n",
       "<p>293 rows × 3 columns</p>\n",
       "</div>"
      ]
     },
     "execution_count": 49,
     "metadata": {},
     "output_type": "execute_result"
    }
   ],
   "execution_count": 49
  },
  {
   "metadata": {
    "ExecuteTime": {
     "end_time": "2025-08-15T09:01:32.900079Z",
     "start_time": "2025-08-15T09:01:32.850126Z"
    }
   },
   "cell_type": "code",
   "source": [
    "# Plot\n",
    "\n",
    "top5_receivers = query4_df.sort_values(by=\"No of Claims\", ascending=False).head(5)\n",
    "\n",
    "plt.figure(figsize=(8, 5))\n",
    "plt.bar(top5_receivers[\"Name\"], top5_receivers[\"No of Claims\"], color=\"green\")\n",
    "plt.xlabel(\"Receiver Name\")\n",
    "plt.ylabel(\"Number of Claims\")\n",
    "plt.title(\"Top 5 Receivers by Number of Claims\")\n",
    "plt.xticks(rotation=45)\n",
    "plt.tight_layout()\n",
    "plt.show()"
   ],
   "id": "d28f67180067ebe5",
   "outputs": [
    {
     "data": {
      "text/plain": [
       "<Figure size 800x500 with 1 Axes>"
      ],
      "image/png": "[encoded data removed]"
     },
     "metadata": {},
     "output_type": "display_data"
    }
   ],
   "execution_count": 50
  },
  {
   "metadata": {
    "ExecuteTime": {
     "end_time": "2025-08-15T09:01:32.908273Z",
     "start_time": "2025-08-15T09:01:32.905471Z"
    }
   },
   "cell_type": "code",
   "source": "query4_df.to_csv(\"Queries/query4_df.csv\", index=False)",
   "id": "a795a64d78beff5d",
   "outputs": [],
   "execution_count": 51
  },
  {
   "metadata": {},
   "cell_type": "markdown",
   "source": "#### Query 5",
   "id": "75eb63da00bfa09d"
  },
  {
   "metadata": {
    "ExecuteTime": {
     "end_time": "2025-08-15T09:01:32.926677Z",
     "start_time": "2025-08-15T09:01:32.917676Z"
    }
   },
   "cell_type": "code",
   "source": [
    "# What is the total quantity of food available from all providers?\n",
    "\n",
    "query5_1 = \"\"\"\n",
    "select p.Provider_ID, p.Name, sum(f.Quantity) as Total_Quantity\n",
    "from providers as p\n",
    "join food_listings as f\n",
    "on p.Provider_ID = f.Provider_ID\n",
    "group by p.Provider_ID, p.Name\n",
    "order by Total_Quantity desc\n",
    "\"\"\"\n",
    "\n",
    "query5_2 = \"\"\"\n",
    "select sum(Quantity) as Total_Quantity_Available from food_listings;\n",
    "\"\"\"\n",
    "\n",
    "cursor.execute(query5_1)\n",
    "query5_1_result = cursor.fetchall()\n",
    "\n",
    "cursor.execute(query5_2)\n",
    "query5_2_result = cursor.fetchall()"
   ],
   "id": "f3c78bebe4616026",
   "outputs": [],
   "execution_count": 52
  },
  {
   "metadata": {
    "ExecuteTime": {
     "end_time": "2025-08-15T09:01:32.933967Z",
     "start_time": "2025-08-15T09:01:32.931631Z"
    }
   },
   "cell_type": "code",
   "source": [
    "query5_1_df = pd.DataFrame(query5_1_result, columns=[\"Provider ID\", \"Name\", \"Total Quantity\"])\n",
    "query5_2_df = pd.DataFrame(query5_2_result, columns=[\"Total Quantity Available\"])"
   ],
   "id": "449b576891bb2fd6",
   "outputs": [],
   "execution_count": 53
  },
  {
   "metadata": {
    "ExecuteTime": {
     "end_time": "2025-08-15T09:01:32.944369Z",
     "start_time": "2025-08-15T09:01:32.939628Z"
    }
   },
   "cell_type": "code",
   "source": "query5_1_df",
   "id": "9ea0e115105f31d3",
   "outputs": [
    {
     "data": {
      "text/plain": [
       "     Provider ID                             Name Total Quantity\n",
       "0            709                      Barry Group            179\n",
       "1            306       Evans, Wright and Mitchell            158\n",
       "2            655                      Smith Group            150\n",
       "3            315                       Nelson LLC            142\n",
       "4            678                       Ruiz-Oneal            140\n",
       "..           ...                              ...            ...\n",
       "632          258                   Gonzales-Moore              1\n",
       "633          184                  Norris-Townsend              1\n",
       "634          849                   Brown and Sons              1\n",
       "635          870                        Mcgee PLC              1\n",
       "636          745  Martinez, Armstrong and Carroll              1\n",
       "\n",
       "[637 rows x 3 columns]"
      ],
      "text/html": [
       "<div>\n",
       "<style scoped>\n",
       "    .dataframe tbody tr th:only-of-type {\n",
       "        vertical-align: middle;\n",
       "    }\n",
       "\n",
       "    .dataframe tbody tr th {\n",
       "        vertical-align: top;\n",
       "    }\n",
       "\n",
       "    .dataframe thead th {\n",
       "        text-align: right;\n",
       "    }\n",
       "</style>\n",
       "<table border=\"1\" class=\"dataframe\">\n",
       "  <thead>\n",
       "    <tr style=\"text-align: right;\">\n",
       "      <th></th>\n",
       "      <th>Provider ID</th>\n",
       "      <th>Name</th>\n",
       "      <th>Total Quantity</th>\n",
       "    </tr>\n",
       "  </thead>\n",
       "  <tbody>\n",
       "    <tr>\n",
       "      <th>0</th>\n",
       "      <td>709</td>\n",
       "      <td>Barry Group</td>\n",
       "      <td>179</td>\n",
       "    </tr>\n",
       "    <tr>\n",
       "      <th>1</th>\n",
       "      <td>306</td>\n",
       "      <td>Evans, Wright and Mitchell</td>\n",
       "      <td>158</td>\n",
       "    </tr>\n",
       "    <tr>\n",
       "      <th>2</th>\n",
       "      <td>655</td>\n",
       "      <td>Smith Group</td>\n",
       "      <td>150</td>\n",
       "    </tr>\n",
       "    <tr>\n",
       "      <th>3</th>\n",
       "      <td>315</td>\n",
       "      <td>Nelson LLC</td>\n",
       "      <td>142</td>\n",
       "    </tr>\n",
       "    <tr>\n",
       "      <th>4</th>\n",
       "      <td>678</td>\n",
       "      <td>Ruiz-Oneal</td>\n",
       "      <td>140</td>\n",
       "    </tr>\n",
       "    <tr>\n",
       "      <th>...</th>\n",
       "      <td>...</td>\n",
       "      <td>...</td>\n",
       "      <td>...</td>\n",
       "    </tr>\n",
       "    <tr>\n",
       "      <th>632</th>\n",
       "      <td>258</td>\n",
       "      <td>Gonzales-Moore</td>\n",
       "      <td>1</td>\n",
       "    </tr>\n",
       "    <tr>\n",
       "      <th>633</th>\n",
       "      <td>184</td>\n",
       "      <td>Norris-Townsend</td>\n",
       "      <td>1</td>\n",
       "    </tr>\n",
       "    <tr>\n",
       "      <th>634</th>\n",
       "      <td>849</td>\n",
       "      <td>Brown and Sons</td>\n",
       "      <td>1</td>\n",
       "    </tr>\n",
       "    <tr>\n",
       "      <th>635</th>\n",
       "      <td>870</td>\n",
       "      <td>Mcgee PLC</td>\n",
       "      <td>1</td>\n",
       "    </tr>\n",
       "    <tr>\n",
       "      <th>636</th>\n",
       "      <td>745</td>\n",
       "      <td>Martinez, Armstrong and Carroll</td>\n",
       "      <td>1</td>\n",
       "    </tr>\n",
       "  </tbody>\n",
       "</table>\n",
       "<p>637 rows × 3 columns</p>\n",
       "</div>"
      ]
     },
     "execution_count": 54,
     "metadata": {},
     "output_type": "execute_result"
    }
   ],
   "execution_count": 54
  },
  {
   "metadata": {
    "ExecuteTime": {
     "end_time": "2025-08-15T09:01:33.005886Z",
     "start_time": "2025-08-15T09:01:32.957216Z"
    }
   },
   "cell_type": "code",
   "source": [
    "# Plot\n",
    "\n",
    "top5_providers = query5_1_df.sort_values(by=\"Total Quantity\", ascending=False).head(5)\n",
    "\n",
    "plt.figure(figsize=(8, 5))\n",
    "plt.bar(top5_providers[\"Name\"], top5_providers[\"Total Quantity\"], color=\"red\")\n",
    "plt.xlabel(\"Provider Name\")\n",
    "plt.ylabel(\"Total Quantity\")\n",
    "plt.title(\"Top 5 Providers by Total Quantity\")\n",
    "plt.xticks(rotation=45, ha=\"right\")\n",
    "plt.tight_layout()\n",
    "plt.show()"
   ],
   "id": "d9b5ea87db78bcb1",
   "outputs": [
    {
     "data": {
      "text/plain": [
       "<Figure size 800x500 with 1 Axes>"
      ],
      "image/png": "[encoded data removed]"
     },
     "metadata": {},
     "output_type": "display_data"
    }
   ],
   "execution_count": 55
  },
  {
   "metadata": {
    "ExecuteTime": {
     "end_time": "2025-08-15T09:01:33.015020Z",
     "start_time": "2025-08-15T09:01:33.011488Z"
    }
   },
   "cell_type": "code",
   "source": "query5_2_df",
   "id": "e420fa9083262045",
   "outputs": [
    {
     "data": {
      "text/plain": [
       "  Total Quantity Available\n",
       "0                    25794"
      ],
      "text/html": [
       "<div>\n",
       "<style scoped>\n",
       "    .dataframe tbody tr th:only-of-type {\n",
       "        vertical-align: middle;\n",
       "    }\n",
       "\n",
       "    .dataframe tbody tr th {\n",
       "        vertical-align: top;\n",
       "    }\n",
       "\n",
       "    .dataframe thead th {\n",
       "        text-align: right;\n",
       "    }\n",
       "</style>\n",
       "<table border=\"1\" class=\"dataframe\">\n",
       "  <thead>\n",
       "    <tr style=\"text-align: right;\">\n",
       "      <th></th>\n",
       "      <th>Total Quantity Available</th>\n",
       "    </tr>\n",
       "  </thead>\n",
       "  <tbody>\n",
       "    <tr>\n",
       "      <th>0</th>\n",
       "      <td>25794</td>\n",
       "    </tr>\n",
       "  </tbody>\n",
       "</table>\n",
       "</div>"
      ]
     },
     "execution_count": 56,
     "metadata": {},
     "output_type": "execute_result"
    }
   ],
   "execution_count": 56
  },
  {
   "metadata": {
    "ExecuteTime": {
     "end_time": "2025-08-15T09:01:33.040536Z",
     "start_time": "2025-08-15T09:01:33.036901Z"
    }
   },
   "cell_type": "code",
   "source": [
    "query5_1_df.to_csv(\"Queries/query5_1_df.csv\", index=False)\n",
    "query5_2_df.to_csv(\"Queries/query5_2_df.csv\", index=False)"
   ],
   "id": "5991ca8d8160d700",
   "outputs": [],
   "execution_count": 57
  },
  {
   "metadata": {},
   "cell_type": "markdown",
   "source": "#### Query 6",
   "id": "4d2ea7947ac0ae24"
  },
  {
   "metadata": {
    "ExecuteTime": {
     "end_time": "2025-08-15T09:01:33.049170Z",
     "start_time": "2025-08-15T09:01:33.044816Z"
    }
   },
   "cell_type": "code",
   "source": [
    "#  Which city has the highest number of food listings?\n",
    "\n",
    "query6 = \"\"\"\n",
    "select Location, count(*) as Total_Listing\n",
    "from food_listings group by Location\n",
    "order by Total_Listing desc\n",
    "limit 1\n",
    "\"\"\"\n",
    "\n",
    "cursor.execute(query6)\n",
    "query6_result = cursor.fetchall()"
   ],
   "id": "d75c6e9bfda70ca7",
   "outputs": [],
   "execution_count": 58
  },
  {
   "metadata": {
    "ExecuteTime": {
     "end_time": "2025-08-15T09:01:33.058571Z",
     "start_time": "2025-08-15T09:01:33.056613Z"
    }
   },
   "cell_type": "code",
   "source": "query6_df = pd.DataFrame(query6_result, columns=[\"Location\", \"Total Listing\"])",
   "id": "4bafe277e9cd16cd",
   "outputs": [],
   "execution_count": 59
  },
  {
   "metadata": {
    "ExecuteTime": {
     "end_time": "2025-08-15T09:01:33.065473Z",
     "start_time": "2025-08-15T09:01:33.062502Z"
    }
   },
   "cell_type": "code",
   "source": "query6_df",
   "id": "1c77109d76914d42",
   "outputs": [
    {
     "data": {
      "text/plain": [
       "    Location  Total Listing\n",
       "0  New Carol              6"
      ],
      "text/html": [
       "<div>\n",
       "<style scoped>\n",
       "    .dataframe tbody tr th:only-of-type {\n",
       "        vertical-align: middle;\n",
       "    }\n",
       "\n",
       "    .dataframe tbody tr th {\n",
       "        vertical-align: top;\n",
       "    }\n",
       "\n",
       "    .dataframe thead th {\n",
       "        text-align: right;\n",
       "    }\n",
       "</style>\n",
       "<table border=\"1\" class=\"dataframe\">\n",
       "  <thead>\n",
       "    <tr style=\"text-align: right;\">\n",
       "      <th></th>\n",
       "      <th>Location</th>\n",
       "      <th>Total Listing</th>\n",
       "    </tr>\n",
       "  </thead>\n",
       "  <tbody>\n",
       "    <tr>\n",
       "      <th>0</th>\n",
       "      <td>New Carol</td>\n",
       "      <td>6</td>\n",
       "    </tr>\n",
       "  </tbody>\n",
       "</table>\n",
       "</div>"
      ]
     },
     "execution_count": 60,
     "metadata": {},
     "output_type": "execute_result"
    }
   ],
   "execution_count": 60
  },
  {
   "metadata": {
    "ExecuteTime": {
     "end_time": "2025-08-15T09:01:33.084350Z",
     "start_time": "2025-08-15T09:01:33.080731Z"
    }
   },
   "cell_type": "code",
   "source": "query6_df.to_csv(\"Queries/query6_df.csv\", index=False)",
   "id": "e099021ccaafcb97",
   "outputs": [],
   "execution_count": 61
  },
  {
   "metadata": {},
   "cell_type": "markdown",
   "source": "#### Query 7",
   "id": "71736116ad32742c"
  },
  {
   "metadata": {
    "ExecuteTime": {
     "end_time": "2025-08-15T09:01:33.094485Z",
     "start_time": "2025-08-15T09:01:33.091336Z"
    }
   },
   "cell_type": "code",
   "source": [
    "# What are the most commonly available food types?\n",
    "\n",
    "query7 = \"\"\"\n",
    "select Food_Type, count(*) as Total_Listing\n",
    "from food_listings group by Food_Type\n",
    "order by Total_Listing desc\n",
    "\"\"\"\n",
    "\n",
    "cursor.execute(query7)\n",
    "query7_result = cursor.fetchall()"
   ],
   "id": "41eac967a3954dc3",
   "outputs": [],
   "execution_count": 62
  },
  {
   "metadata": {
    "ExecuteTime": {
     "end_time": "2025-08-15T09:01:33.102262Z",
     "start_time": "2025-08-15T09:01:33.100522Z"
    }
   },
   "cell_type": "code",
   "source": "query7_df = pd.DataFrame(query7_result, columns=[\"Food Type\", \"Total Listing\"])",
   "id": "eaaec6dcafe23c24",
   "outputs": [],
   "execution_count": 63
  },
  {
   "metadata": {
    "ExecuteTime": {
     "end_time": "2025-08-15T09:01:33.112272Z",
     "start_time": "2025-08-15T09:01:33.107965Z"
    }
   },
   "cell_type": "code",
   "source": "query7_df",
   "id": "5babec5a2b2369c9",
   "outputs": [
    {
     "data": {
      "text/plain": [
       "        Food Type  Total Listing\n",
       "0      Vegetarian            336\n",
       "1           Vegan            334\n",
       "2  Non-Vegetarian            330"
      ],
      "text/html": [
       "<div>\n",
       "<style scoped>\n",
       "    .dataframe tbody tr th:only-of-type {\n",
       "        vertical-align: middle;\n",
       "    }\n",
       "\n",
       "    .dataframe tbody tr th {\n",
       "        vertical-align: top;\n",
       "    }\n",
       "\n",
       "    .dataframe thead th {\n",
       "        text-align: right;\n",
       "    }\n",
       "</style>\n",
       "<table border=\"1\" class=\"dataframe\">\n",
       "  <thead>\n",
       "    <tr style=\"text-align: right;\">\n",
       "      <th></th>\n",
       "      <th>Food Type</th>\n",
       "      <th>Total Listing</th>\n",
       "    </tr>\n",
       "  </thead>\n",
       "  <tbody>\n",
       "    <tr>\n",
       "      <th>0</th>\n",
       "      <td>Vegetarian</td>\n",
       "      <td>336</td>\n",
       "    </tr>\n",
       "    <tr>\n",
       "      <th>1</th>\n",
       "      <td>Vegan</td>\n",
       "      <td>334</td>\n",
       "    </tr>\n",
       "    <tr>\n",
       "      <th>2</th>\n",
       "      <td>Non-Vegetarian</td>\n",
       "      <td>330</td>\n",
       "    </tr>\n",
       "  </tbody>\n",
       "</table>\n",
       "</div>"
      ]
     },
     "execution_count": 64,
     "metadata": {},
     "output_type": "execute_result"
    }
   ],
   "execution_count": 64
  },
  {
   "metadata": {
    "ExecuteTime": {
     "end_time": "2025-08-15T09:01:33.155114Z",
     "start_time": "2025-08-15T09:01:33.122783Z"
    }
   },
   "cell_type": "code",
   "source": [
    "# Plot\n",
    "\n",
    "plt.figure(figsize=(6, 6))\n",
    "plt.pie(\n",
    "    query7_df[\"Total Listing\"],\n",
    "    labels=query7_df[\"Food Type\"],\n",
    "    autopct=\"%1.1f%%\",\n",
    "    startangle=90\n",
    ")\n",
    "plt.title(\"Food Type Distribution\")\n",
    "plt.tight_layout()\n",
    "plt.show()"
   ],
   "id": "f3ef30a8ac8b2748",
   "outputs": [
    {
     "data": {
      "text/plain": [
       "<Figure size 600x600 with 1 Axes>"
      ],
      "image/png": "[encoded data removed]"
     },
     "metadata": {},
     "output_type": "display_data"
    }
   ],
   "execution_count": 65
  },
  {
   "metadata": {
    "ExecuteTime": {
     "end_time": "2025-08-15T09:01:33.175182Z",
     "start_time": "2025-08-15T09:01:33.168478Z"
    }
   },
   "cell_type": "code",
   "source": "query7_df.to_csv(\"Queries/query7_df.csv\", index=False)",
   "id": "8f0cb054a5fde87d",
   "outputs": [],
   "execution_count": 66
  },
  {
   "metadata": {},
   "cell_type": "markdown",
   "source": "#### Query 8",
   "id": "615a527ad0c93a6c"
  },
  {
   "metadata": {
    "ExecuteTime": {
     "end_time": "2025-08-15T09:01:33.192188Z",
     "start_time": "2025-08-15T09:01:33.186263Z"
    }
   },
   "cell_type": "code",
   "source": [
    "# How many food claims have been made for each food item?\n",
    "\n",
    "query8 = \"\"\"\n",
    "select f.Food_ID, f.Food_Name, count(c.Claim_ID) as Claim_Count\n",
    "from claims as c join food_listings as f\n",
    "on f.Food_ID = c.Food_ID\n",
    "group by Food_ID\n",
    "order by Claim_Count desc;\n",
    "\"\"\"\n",
    "\n",
    "cursor.execute(query8)\n",
    "query8_result = cursor.fetchall()"
   ],
   "id": "d53bc3ff4055e6c1",
   "outputs": [],
   "execution_count": 67
  },
  {
   "metadata": {
    "ExecuteTime": {
     "end_time": "2025-08-15T09:01:33.200275Z",
     "start_time": "2025-08-15T09:01:33.197657Z"
    }
   },
   "cell_type": "code",
   "source": "query8_df = pd.DataFrame(query8_result, columns=[\"Food ID\", \"Food Name\", \"Claim Count\"])",
   "id": "4cd4c10a2ff64cb2",
   "outputs": [],
   "execution_count": 68
  },
  {
   "metadata": {
    "ExecuteTime": {
     "end_time": "2025-08-15T09:01:33.211708Z",
     "start_time": "2025-08-15T09:01:33.206970Z"
    }
   },
   "cell_type": "code",
   "source": "query8_df",
   "id": "2423a1851cf89c30",
   "outputs": [
    {
     "data": {
      "text/plain": [
       "     Food ID Food Name  Claim Count\n",
       "0        463      Soup            5\n",
       "1        486   Chicken            5\n",
       "2        548      Fish            5\n",
       "3         35      Rice            4\n",
       "4         92   Chicken            4\n",
       "..       ...       ...          ...\n",
       "642      990     Pasta            1\n",
       "643      992     Salad            1\n",
       "644      995      Rice            1\n",
       "645      998    Fruits            1\n",
       "646      999     Pasta            1\n",
       "\n",
       "[647 rows x 3 columns]"
      ],
      "text/html": [
       "<div>\n",
       "<style scoped>\n",
       "    .dataframe tbody tr th:only-of-type {\n",
       "        vertical-align: middle;\n",
       "    }\n",
       "\n",
       "    .dataframe tbody tr th {\n",
       "        vertical-align: top;\n",
       "    }\n",
       "\n",
       "    .dataframe thead th {\n",
       "        text-align: right;\n",
       "    }\n",
       "</style>\n",
       "<table border=\"1\" class=\"dataframe\">\n",
       "  <thead>\n",
       "    <tr style=\"text-align: right;\">\n",
       "      <th></th>\n",
       "      <th>Food ID</th>\n",
       "      <th>Food Name</th>\n",
       "      <th>Claim Count</th>\n",
       "    </tr>\n",
       "  </thead>\n",
       "  <tbody>\n",
       "    <tr>\n",
       "      <th>0</th>\n",
       "      <td>463</td>\n",
       "      <td>Soup</td>\n",
       "      <td>5</td>\n",
       "    </tr>\n",
       "    <tr>\n",
       "      <th>1</th>\n",
       "      <td>486</td>\n",
       "      <td>Chicken</td>\n",
       "      <td>5</td>\n",
       "    </tr>\n",
       "    <tr>\n",
       "      <th>2</th>\n",
       "      <td>548</td>\n",
       "      <td>Fish</td>\n",
       "      <td>5</td>\n",
       "    </tr>\n",
       "    <tr>\n",
       "      <th>3</th>\n",
       "      <td>35</td>\n",
       "      <td>Rice</td>\n",
       "      <td>4</td>\n",
       "    </tr>\n",
       "    <tr>\n",
       "      <th>4</th>\n",
       "      <td>92</td>\n",
       "      <td>Chicken</td>\n",
       "      <td>4</td>\n",
       "    </tr>\n",
       "    <tr>\n",
       "      <th>...</th>\n",
       "      <td>...</td>\n",
       "      <td>...</td>\n",
       "      <td>...</td>\n",
       "    </tr>\n",
       "    <tr>\n",
       "      <th>642</th>\n",
       "      <td>990</td>\n",
       "      <td>Pasta</td>\n",
       "      <td>1</td>\n",
       "    </tr>\n",
       "    <tr>\n",
       "      <th>643</th>\n",
       "      <td>992</td>\n",
       "      <td>Salad</td>\n",
       "      <td>1</td>\n",
       "    </tr>\n",
       "    <tr>\n",
       "      <th>644</th>\n",
       "      <td>995</td>\n",
       "      <td>Rice</td>\n",
       "      <td>1</td>\n",
       "    </tr>\n",
       "    <tr>\n",
       "      <th>645</th>\n",
       "      <td>998</td>\n",
       "      <td>Fruits</td>\n",
       "      <td>1</td>\n",
       "    </tr>\n",
       "    <tr>\n",
       "      <th>646</th>\n",
       "      <td>999</td>\n",
       "      <td>Pasta</td>\n",
       "      <td>1</td>\n",
       "    </tr>\n",
       "  </tbody>\n",
       "</table>\n",
       "<p>647 rows × 3 columns</p>\n",
       "</div>"
      ]
     },
     "execution_count": 69,
     "metadata": {},
     "output_type": "execute_result"
    }
   ],
   "execution_count": 69
  },
  {
   "metadata": {
    "ExecuteTime": {
     "end_time": "2025-08-15T09:01:33.227226Z",
     "start_time": "2025-08-15T09:01:33.224228Z"
    }
   },
   "cell_type": "code",
   "source": "query8_df.to_csv(\"Queries/query8_df.csv\", index=False)",
   "id": "9ddd51762b3104b4",
   "outputs": [],
   "execution_count": 70
  },
  {
   "metadata": {},
   "cell_type": "markdown",
   "source": "#### Query 9",
   "id": "4f506ece63b3b4be"
  },
  {
   "metadata": {
    "ExecuteTime": {
     "end_time": "2025-08-15T09:01:33.239639Z",
     "start_time": "2025-08-15T09:01:33.234026Z"
    }
   },
   "cell_type": "code",
   "source": [
    "# Which provider has had the highest number of successful food claims?\n",
    "\n",
    "query9 = \"\"\"\n",
    "select p.Provider_ID, p.Name, count(c.Claim_ID) as Successful_Claims\n",
    "from claims as c\n",
    "join food_listings as f on c.Food_ID = f.Food_ID\n",
    "join providers as p on f.Provider_ID = p.Provider_ID\n",
    "where c.Status = 'Completed'\n",
    "group by p.Provider_ID, p.Name\n",
    "order by Successful_Claims desc\n",
    "limit 1\n",
    "\"\"\"\n",
    "\n",
    "cursor.execute(query9)\n",
    "query9_result = cursor.fetchall()"
   ],
   "id": "9b45ca17e567be74",
   "outputs": [],
   "execution_count": 71
  },
  {
   "metadata": {
    "ExecuteTime": {
     "end_time": "2025-08-15T09:01:33.245553Z",
     "start_time": "2025-08-15T09:01:33.243629Z"
    }
   },
   "cell_type": "code",
   "source": "query9_df = pd.DataFrame(query9_result, columns=[\"Provider ID\", \"Provider Name\", \"Successful Claims\"])",
   "id": "7e82aab6d098565e",
   "outputs": [],
   "execution_count": 72
  },
  {
   "metadata": {
    "ExecuteTime": {
     "end_time": "2025-08-15T09:01:33.252158Z",
     "start_time": "2025-08-15T09:01:33.249173Z"
    }
   },
   "cell_type": "code",
   "source": "query9_df",
   "id": "efbce03ac542175",
   "outputs": [
    {
     "data": {
      "text/plain": [
       "   Provider ID Provider Name  Successful Claims\n",
       "0          709   Barry Group                  5"
      ],
      "text/html": [
       "<div>\n",
       "<style scoped>\n",
       "    .dataframe tbody tr th:only-of-type {\n",
       "        vertical-align: middle;\n",
       "    }\n",
       "\n",
       "    .dataframe tbody tr th {\n",
       "        vertical-align: top;\n",
       "    }\n",
       "\n",
       "    .dataframe thead th {\n",
       "        text-align: right;\n",
       "    }\n",
       "</style>\n",
       "<table border=\"1\" class=\"dataframe\">\n",
       "  <thead>\n",
       "    <tr style=\"text-align: right;\">\n",
       "      <th></th>\n",
       "      <th>Provider ID</th>\n",
       "      <th>Provider Name</th>\n",
       "      <th>Successful Claims</th>\n",
       "    </tr>\n",
       "  </thead>\n",
       "  <tbody>\n",
       "    <tr>\n",
       "      <th>0</th>\n",
       "      <td>709</td>\n",
       "      <td>Barry Group</td>\n",
       "      <td>5</td>\n",
       "    </tr>\n",
       "  </tbody>\n",
       "</table>\n",
       "</div>"
      ]
     },
     "execution_count": 73,
     "metadata": {},
     "output_type": "execute_result"
    }
   ],
   "execution_count": 73
  },
  {
   "metadata": {
    "ExecuteTime": {
     "end_time": "2025-08-15T09:01:33.268603Z",
     "start_time": "2025-08-15T09:01:33.264656Z"
    }
   },
   "cell_type": "code",
   "source": "query9_df.to_csv(\"Queries/query9_df.csv\", index=False)",
   "id": "3be47332677f1a76",
   "outputs": [],
   "execution_count": 74
  },
  {
   "metadata": {},
   "cell_type": "markdown",
   "source": "#### Query 10",
   "id": "17079370f604c18b"
  },
  {
   "metadata": {
    "ExecuteTime": {
     "end_time": "2025-08-15T09:01:33.279805Z",
     "start_time": "2025-08-15T09:01:33.274825Z"
    }
   },
   "cell_type": "code",
   "source": [
    "#  What percentage of food claims are completed vs. pending vs. canceled?\n",
    "\n",
    "query10 = \"\"\"\n",
    "select Status, (count(*) / (select count(*) from claims)) * 100 as Percentage\n",
    "from claims\n",
    "group by Status\n",
    "order by Percentage desc\n",
    "\"\"\"\n",
    "\n",
    "cursor.execute(query10)\n",
    "query10_result = cursor.fetchall()"
   ],
   "id": "929b4a85587e2f0e",
   "outputs": [],
   "execution_count": 75
  },
  {
   "metadata": {
    "ExecuteTime": {
     "end_time": "2025-08-15T09:01:33.287516Z",
     "start_time": "2025-08-15T09:01:33.285657Z"
    }
   },
   "cell_type": "code",
   "source": "query10_df = pd.DataFrame(query10_result, columns=[\"Status\", \"Percentage\"])",
   "id": "65aa87230b76a27",
   "outputs": [],
   "execution_count": 76
  },
  {
   "metadata": {
    "ExecuteTime": {
     "end_time": "2025-08-15T09:01:33.296317Z",
     "start_time": "2025-08-15T09:01:33.292701Z"
    }
   },
   "cell_type": "code",
   "source": "query10_df",
   "id": "54eb60d17695bd11",
   "outputs": [
    {
     "data": {
      "text/plain": [
       "      Status Percentage\n",
       "0  Completed    33.9000\n",
       "1  Cancelled    33.6000\n",
       "2    Pending    32.5000"
      ],
      "text/html": [
       "<div>\n",
       "<style scoped>\n",
       "    .dataframe tbody tr th:only-of-type {\n",
       "        vertical-align: middle;\n",
       "    }\n",
       "\n",
       "    .dataframe tbody tr th {\n",
       "        vertical-align: top;\n",
       "    }\n",
       "\n",
       "    .dataframe thead th {\n",
       "        text-align: right;\n",
       "    }\n",
       "</style>\n",
       "<table border=\"1\" class=\"dataframe\">\n",
       "  <thead>\n",
       "    <tr style=\"text-align: right;\">\n",
       "      <th></th>\n",
       "      <th>Status</th>\n",
       "      <th>Percentage</th>\n",
       "    </tr>\n",
       "  </thead>\n",
       "  <tbody>\n",
       "    <tr>\n",
       "      <th>0</th>\n",
       "      <td>Completed</td>\n",
       "      <td>33.9000</td>\n",
       "    </tr>\n",
       "    <tr>\n",
       "      <th>1</th>\n",
       "      <td>Cancelled</td>\n",
       "      <td>33.6000</td>\n",
       "    </tr>\n",
       "    <tr>\n",
       "      <th>2</th>\n",
       "      <td>Pending</td>\n",
       "      <td>32.5000</td>\n",
       "    </tr>\n",
       "  </tbody>\n",
       "</table>\n",
       "</div>"
      ]
     },
     "execution_count": 77,
     "metadata": {},
     "output_type": "execute_result"
    }
   ],
   "execution_count": 77
  },
  {
   "metadata": {
    "ExecuteTime": {
     "end_time": "2025-08-15T09:01:33.344152Z",
     "start_time": "2025-08-15T09:01:33.306860Z"
    }
   },
   "cell_type": "code",
   "source": [
    "# Plot\n",
    "\n",
    "labels = query10_df[\"Status\"]\n",
    "sizes = query10_df[\"Percentage\"]\n",
    "\n",
    "plt.figure(figsize=(6, 6))\n",
    "wedges, texts, autotexts = plt.pie(\n",
    "    sizes,\n",
    "    labels=labels,\n",
    "    autopct=\"%1.1f%%\",\n",
    "    startangle=90,\n",
    "    wedgeprops=dict(width=0.4)\n",
    ")\n",
    "\n",
    "centre_circle = plt.Circle((0, 0), 0.70, fc='white')\n",
    "fig = plt.gcf()\n",
    "fig.gca().add_artist(centre_circle)\n",
    "\n",
    "plt.title(\"Claim Status Distribution\")\n",
    "plt.tight_layout()\n",
    "plt.show()\n"
   ],
   "id": "c0ac5605cfec9c6a",
   "outputs": [
    {
     "data": {
      "text/plain": [
       "<Figure size 600x600 with 1 Axes>"
      ],
      "image/png": "[encoded data removed]"
     },
     "metadata": {},
     "output_type": "display_data"
    }
   ],
   "execution_count": 78
  },
  {
   "metadata": {
    "ExecuteTime": {
     "end_time": "2025-08-15T09:01:33.352252Z",
     "start_time": "2025-08-15T09:01:33.349707Z"
    }
   },
   "cell_type": "code",
   "source": "query10_df.to_csv(\"Queries/query10_df.csv\", index=False)",
   "id": "17af1919a5f3529a",
   "outputs": [],
   "execution_count": 79
  },
  {
   "metadata": {},
   "cell_type": "markdown",
   "source": "#### Query 11",
   "id": "2d73c5a299d94659"
  },
  {
   "metadata": {
    "ExecuteTime": {
     "end_time": "2025-08-15T09:01:33.370752Z",
     "start_time": "2025-08-15T09:01:33.361723Z"
    }
   },
   "cell_type": "code",
   "source": [
    "# What is the average quantity of food claimed per receiver?\n",
    "\n",
    "query11 = \"\"\"\n",
    "select r.Receiver_ID, r.Name, avg(f.Quantity) as Avg_Quantity\n",
    "from receivers as r\n",
    "join claims as c on r.Receiver_ID = c.Receiver_ID\n",
    "join food_listings as f on f.Food_ID = c.Food_ID\n",
    "group by r.Receiver_ID, r.Name\n",
    "order by Avg_Quantity desc\n",
    "\"\"\"\n",
    "\n",
    "cursor.execute(query11)\n",
    "query11_result = cursor.fetchall()"
   ],
   "id": "d9e0281e3168393b",
   "outputs": [],
   "execution_count": 80
  },
  {
   "metadata": {
    "ExecuteTime": {
     "end_time": "2025-08-15T09:01:33.378287Z",
     "start_time": "2025-08-15T09:01:33.375775Z"
    }
   },
   "cell_type": "code",
   "source": "query11_df = pd.DataFrame(query11_result, columns=[\"Receiver ID\", \"Receiver Name\", \"Average Quantity\"])",
   "id": "9708c53b3c644bc4",
   "outputs": [],
   "execution_count": 81
  },
  {
   "metadata": {
    "ExecuteTime": {
     "end_time": "2025-08-15T09:01:33.386450Z",
     "start_time": "2025-08-15T09:01:33.382270Z"
    }
   },
   "cell_type": "code",
   "source": "query11_df",
   "id": "5b2d041e00c7335",
   "outputs": [
    {
     "data": {
      "text/plain": [
       "     Receiver ID       Receiver Name Average Quantity\n",
       "0            739         Nancy Jones          50.0000\n",
       "1            282          Lisa Pitts          50.0000\n",
       "2            616  Christopher Wright          50.0000\n",
       "3             99         Nancy Silva          50.0000\n",
       "4            567        Peggy Knight          50.0000\n",
       "..           ...                 ...              ...\n",
       "619          766       John Reynolds           2.0000\n",
       "620          174     Matthew Johnson           2.0000\n",
       "621          746      Kenneth Barnes           2.0000\n",
       "622          904        Amanda Kline           1.0000\n",
       "623          765       Joshua Hooper           1.0000\n",
       "\n",
       "[624 rows x 3 columns]"
      ],
      "text/html": [
       "<div>\n",
       "<style scoped>\n",
       "    .dataframe tbody tr th:only-of-type {\n",
       "        vertical-align: middle;\n",
       "    }\n",
       "\n",
       "    .dataframe tbody tr th {\n",
       "        vertical-align: top;\n",
       "    }\n",
       "\n",
       "    .dataframe thead th {\n",
       "        text-align: right;\n",
       "    }\n",
       "</style>\n",
       "<table border=\"1\" class=\"dataframe\">\n",
       "  <thead>\n",
       "    <tr style=\"text-align: right;\">\n",
       "      <th></th>\n",
       "      <th>Receiver ID</th>\n",
       "      <th>Receiver Name</th>\n",
       "      <th>Average Quantity</th>\n",
       "    </tr>\n",
       "  </thead>\n",
       "  <tbody>\n",
       "    <tr>\n",
       "      <th>0</th>\n",
       "      <td>739</td>\n",
       "      <td>Nancy Jones</td>\n",
       "      <td>50.0000</td>\n",
       "    </tr>\n",
       "    <tr>\n",
       "      <th>1</th>\n",
       "      <td>282</td>\n",
       "      <td>Lisa Pitts</td>\n",
       "      <td>50.0000</td>\n",
       "    </tr>\n",
       "    <tr>\n",
       "      <th>2</th>\n",
       "      <td>616</td>\n",
       "      <td>Christopher Wright</td>\n",
       "      <td>50.0000</td>\n",
       "    </tr>\n",
       "    <tr>\n",
       "      <th>3</th>\n",
       "      <td>99</td>\n",
       "      <td>Nancy Silva</td>\n",
       "      <td>50.0000</td>\n",
       "    </tr>\n",
       "    <tr>\n",
       "      <th>4</th>\n",
       "      <td>567</td>\n",
       "      <td>Peggy Knight</td>\n",
       "      <td>50.0000</td>\n",
       "    </tr>\n",
       "    <tr>\n",
       "      <th>...</th>\n",
       "      <td>...</td>\n",
       "      <td>...</td>\n",
       "      <td>...</td>\n",
       "    </tr>\n",
       "    <tr>\n",
       "      <th>619</th>\n",
       "      <td>766</td>\n",
       "      <td>John Reynolds</td>\n",
       "      <td>2.0000</td>\n",
       "    </tr>\n",
       "    <tr>\n",
       "      <th>620</th>\n",
       "      <td>174</td>\n",
       "      <td>Matthew Johnson</td>\n",
       "      <td>2.0000</td>\n",
       "    </tr>\n",
       "    <tr>\n",
       "      <th>621</th>\n",
       "      <td>746</td>\n",
       "      <td>Kenneth Barnes</td>\n",
       "      <td>2.0000</td>\n",
       "    </tr>\n",
       "    <tr>\n",
       "      <th>622</th>\n",
       "      <td>904</td>\n",
       "      <td>Amanda Kline</td>\n",
       "      <td>1.0000</td>\n",
       "    </tr>\n",
       "    <tr>\n",
       "      <th>623</th>\n",
       "      <td>765</td>\n",
       "      <td>Joshua Hooper</td>\n",
       "      <td>1.0000</td>\n",
       "    </tr>\n",
       "  </tbody>\n",
       "</table>\n",
       "<p>624 rows × 3 columns</p>\n",
       "</div>"
      ]
     },
     "execution_count": 82,
     "metadata": {},
     "output_type": "execute_result"
    }
   ],
   "execution_count": 82
  },
  {
   "metadata": {
    "ExecuteTime": {
     "end_time": "2025-08-15T09:01:33.407295Z",
     "start_time": "2025-08-15T09:01:33.403811Z"
    }
   },
   "cell_type": "code",
   "source": "query11_df.to_csv(\"Queries/query11_df.csv\", index=False)",
   "id": "f66cb9eda6e1bbb9",
   "outputs": [],
   "execution_count": 83
  },
  {
   "metadata": {},
   "cell_type": "markdown",
   "source": "#### Query 12",
   "id": "165f976c3fc702f"
  },
  {
   "metadata": {
    "ExecuteTime": {
     "end_time": "2025-08-15T09:01:33.416824Z",
     "start_time": "2025-08-15T09:01:33.412423Z"
    }
   },
   "cell_type": "code",
   "source": [
    "# Which meal type (breakfast, lunch, dinner, snacks) is claimed the most?\n",
    "\n",
    "query12 = \"\"\"\n",
    "select f.Meal_Type, count(c.Claim_ID) as Claim_Count\n",
    "from claims as c\n",
    "join food_listings as f on c.Food_ID = f.Food_ID\n",
    "group by f.Meal_Type\n",
    "order by Claim_Count desc\n",
    "limit 1\n",
    "\"\"\"\n",
    "\n",
    "cursor.execute(query12)\n",
    "query12_result = cursor.fetchall()"
   ],
   "id": "b9f090742e62a19c",
   "outputs": [],
   "execution_count": 84
  },
  {
   "metadata": {
    "ExecuteTime": {
     "end_time": "2025-08-15T09:01:33.423163Z",
     "start_time": "2025-08-15T09:01:33.421377Z"
    }
   },
   "cell_type": "code",
   "source": "query12_df = pd.DataFrame(query12_result, columns=[\"Meal Type\", \"Claim Count\"])",
   "id": "ada79cf2df4a324e",
   "outputs": [],
   "execution_count": 85
  },
  {
   "metadata": {
    "ExecuteTime": {
     "end_time": "2025-08-15T09:01:33.432289Z",
     "start_time": "2025-08-15T09:01:33.428242Z"
    }
   },
   "cell_type": "code",
   "source": "query12_df",
   "id": "a2cc4f50e2c4e1d0",
   "outputs": [
    {
     "data": {
      "text/plain": [
       "   Meal Type  Claim Count\n",
       "0  Breakfast          278"
      ],
      "text/html": [
       "<div>\n",
       "<style scoped>\n",
       "    .dataframe tbody tr th:only-of-type {\n",
       "        vertical-align: middle;\n",
       "    }\n",
       "\n",
       "    .dataframe tbody tr th {\n",
       "        vertical-align: top;\n",
       "    }\n",
       "\n",
       "    .dataframe thead th {\n",
       "        text-align: right;\n",
       "    }\n",
       "</style>\n",
       "<table border=\"1\" class=\"dataframe\">\n",
       "  <thead>\n",
       "    <tr style=\"text-align: right;\">\n",
       "      <th></th>\n",
       "      <th>Meal Type</th>\n",
       "      <th>Claim Count</th>\n",
       "    </tr>\n",
       "  </thead>\n",
       "  <tbody>\n",
       "    <tr>\n",
       "      <th>0</th>\n",
       "      <td>Breakfast</td>\n",
       "      <td>278</td>\n",
       "    </tr>\n",
       "  </tbody>\n",
       "</table>\n",
       "</div>"
      ]
     },
     "execution_count": 86,
     "metadata": {},
     "output_type": "execute_result"
    }
   ],
   "execution_count": 86
  },
  {
   "metadata": {
    "ExecuteTime": {
     "end_time": "2025-08-15T09:01:33.449385Z",
     "start_time": "2025-08-15T09:01:33.445860Z"
    }
   },
   "cell_type": "code",
   "source": "query12_df.to_csv(\"Queries/query12_df.csv\", index=False)",
   "id": "ffb3bc7372885ff4",
   "outputs": [],
   "execution_count": 87
  },
  {
   "metadata": {},
   "cell_type": "markdown",
   "source": "#### Query 13",
   "id": "7dde74db86f4a6fa"
  },
  {
   "metadata": {
    "ExecuteTime": {
     "end_time": "2025-08-15T09:01:33.462939Z",
     "start_time": "2025-08-15T09:01:33.455762Z"
    }
   },
   "cell_type": "code",
   "source": [
    "#  What is the total quantity of food donated by each provider?\n",
    "\n",
    "query13 = \"\"\"\n",
    "select p.Provider_ID, p.Name, sum(f.Quantity) as Total_Quantity\n",
    "from food_listings as f\n",
    "join providers as p on p.Provider_ID = f.Provider_ID\n",
    "group by p.Provider_ID, p.Name\n",
    "order by Total_Quantity desc\n",
    "\"\"\"\n",
    "\n",
    "cursor.execute(query13)\n",
    "query13_result = cursor.fetchall()"
   ],
   "id": "aa778dc72dbdf99c",
   "outputs": [],
   "execution_count": 88
  },
  {
   "metadata": {
    "ExecuteTime": {
     "end_time": "2025-08-15T09:01:33.469122Z",
     "start_time": "2025-08-15T09:01:33.467094Z"
    }
   },
   "cell_type": "code",
   "source": "query13_df = pd.DataFrame(query13_result, columns=[\"Provider ID\", \"Provider Name\", \"Total Quantity\"])",
   "id": "628a77e44625c5c6",
   "outputs": [],
   "execution_count": 89
  },
  {
   "metadata": {
    "ExecuteTime": {
     "end_time": "2025-08-15T09:01:33.479208Z",
     "start_time": "2025-08-15T09:01:33.474474Z"
    }
   },
   "cell_type": "code",
   "source": "query13_df",
   "id": "aab2880a452b6b03",
   "outputs": [
    {
     "data": {
      "text/plain": [
       "     Provider ID                    Provider Name Total Quantity\n",
       "0            709                      Barry Group            179\n",
       "1            306       Evans, Wright and Mitchell            158\n",
       "2            655                      Smith Group            150\n",
       "3            315                       Nelson LLC            142\n",
       "4            678                       Ruiz-Oneal            140\n",
       "..           ...                              ...            ...\n",
       "632          258                   Gonzales-Moore              1\n",
       "633          184                  Norris-Townsend              1\n",
       "634          849                   Brown and Sons              1\n",
       "635          870                        Mcgee PLC              1\n",
       "636          745  Martinez, Armstrong and Carroll              1\n",
       "\n",
       "[637 rows x 3 columns]"
      ],
      "text/html": [
       "<div>\n",
       "<style scoped>\n",
       "    .dataframe tbody tr th:only-of-type {\n",
       "        vertical-align: middle;\n",
       "    }\n",
       "\n",
       "    .dataframe tbody tr th {\n",
       "        vertical-align: top;\n",
       "    }\n",
       "\n",
       "    .dataframe thead th {\n",
       "        text-align: right;\n",
       "    }\n",
       "</style>\n",
       "<table border=\"1\" class=\"dataframe\">\n",
       "  <thead>\n",
       "    <tr style=\"text-align: right;\">\n",
       "      <th></th>\n",
       "      <th>Provider ID</th>\n",
       "      <th>Provider Name</th>\n",
       "      <th>Total Quantity</th>\n",
       "    </tr>\n",
       "  </thead>\n",
       "  <tbody>\n",
       "    <tr>\n",
       "      <th>0</th>\n",
       "      <td>709</td>\n",
       "      <td>Barry Group</td>\n",
       "      <td>179</td>\n",
       "    </tr>\n",
       "    <tr>\n",
       "      <th>1</th>\n",
       "      <td>306</td>\n",
       "      <td>Evans, Wright and Mitchell</td>\n",
       "      <td>158</td>\n",
       "    </tr>\n",
       "    <tr>\n",
       "      <th>2</th>\n",
       "      <td>655</td>\n",
       "      <td>Smith Group</td>\n",
       "      <td>150</td>\n",
       "    </tr>\n",
       "    <tr>\n",
       "      <th>3</th>\n",
       "      <td>315</td>\n",
       "      <td>Nelson LLC</td>\n",
       "      <td>142</td>\n",
       "    </tr>\n",
       "    <tr>\n",
       "      <th>4</th>\n",
       "      <td>678</td>\n",
       "      <td>Ruiz-Oneal</td>\n",
       "      <td>140</td>\n",
       "    </tr>\n",
       "    <tr>\n",
       "      <th>...</th>\n",
       "      <td>...</td>\n",
       "      <td>...</td>\n",
       "      <td>...</td>\n",
       "    </tr>\n",
       "    <tr>\n",
       "      <th>632</th>\n",
       "      <td>258</td>\n",
       "      <td>Gonzales-Moore</td>\n",
       "      <td>1</td>\n",
       "    </tr>\n",
       "    <tr>\n",
       "      <th>633</th>\n",
       "      <td>184</td>\n",
       "      <td>Norris-Townsend</td>\n",
       "      <td>1</td>\n",
       "    </tr>\n",
       "    <tr>\n",
       "      <th>634</th>\n",
       "      <td>849</td>\n",
       "      <td>Brown and Sons</td>\n",
       "      <td>1</td>\n",
       "    </tr>\n",
       "    <tr>\n",
       "      <th>635</th>\n",
       "      <td>870</td>\n",
       "      <td>Mcgee PLC</td>\n",
       "      <td>1</td>\n",
       "    </tr>\n",
       "    <tr>\n",
       "      <th>636</th>\n",
       "      <td>745</td>\n",
       "      <td>Martinez, Armstrong and Carroll</td>\n",
       "      <td>1</td>\n",
       "    </tr>\n",
       "  </tbody>\n",
       "</table>\n",
       "<p>637 rows × 3 columns</p>\n",
       "</div>"
      ]
     },
     "execution_count": 90,
     "metadata": {},
     "output_type": "execute_result"
    }
   ],
   "execution_count": 90
  },
  {
   "metadata": {
    "ExecuteTime": {
     "end_time": "2025-08-15T09:01:33.492800Z",
     "start_time": "2025-08-15T09:01:33.489948Z"
    }
   },
   "cell_type": "code",
   "source": "query13_df.to_csv(\"Queries/query13_df.csv\", index=False)",
   "id": "3cbf497272bd24b",
   "outputs": [],
   "execution_count": 91
  },
  {
   "metadata": {},
   "cell_type": "markdown",
   "source": "#### Query 14",
   "id": "c6be25f5b6ed76e"
  },
  {
   "metadata": {
    "ExecuteTime": {
     "end_time": "2025-08-15T09:01:33.622782Z",
     "start_time": "2025-08-15T09:01:33.618373Z"
    }
   },
   "cell_type": "code",
   "source": [
    "# Which food items have the highest unclaimed rate?\n",
    "\n",
    "query14 = \"\"\"\n",
    "select f.Food_Name, count(c.Claim_ID) as Unclaim_Count\n",
    "from food_listings as f\n",
    "join claims as c on f.Food_ID = c.Food_ID\n",
    "where Status = 'Cancelled'\n",
    "group by f.Food_Name\n",
    "order by Unclaim_Count desc\n",
    "\"\"\"\n",
    "\n",
    "cursor.execute(query14)\n",
    "query14_result = cursor.fetchall()"
   ],
   "id": "93ca2ee7c18d6dea",
   "outputs": [],
   "execution_count": 92
  },
  {
   "metadata": {
    "ExecuteTime": {
     "end_time": "2025-08-15T09:01:33.633561Z",
     "start_time": "2025-08-15T09:01:33.631633Z"
    }
   },
   "cell_type": "code",
   "source": "query14_df = pd.DataFrame(query14_result, columns=[\"Food Name\", \"Cancelled Claims\"])",
   "id": "56c74f83769b0bb1",
   "outputs": [],
   "execution_count": 93
  },
  {
   "metadata": {
    "ExecuteTime": {
     "end_time": "2025-08-15T09:01:33.692902Z",
     "start_time": "2025-08-15T09:01:33.686084Z"
    }
   },
   "cell_type": "code",
   "source": "query14_df",
   "id": "de3db8cd79eaafee",
   "outputs": [
    {
     "data": {
      "text/plain": [
       "    Food Name  Cancelled Claims\n",
       "0        Rice                49\n",
       "1       Salad                40\n",
       "2     Chicken                40\n",
       "3        Fish                37\n",
       "4        Soup                33\n",
       "5       Pasta                30\n",
       "6       Dairy                29\n",
       "7       Bread                28\n",
       "8      Fruits                25\n",
       "9  Vegetables                25"
      ],
      "text/html": [
       "<div>\n",
       "<style scoped>\n",
       "    .dataframe tbody tr th:only-of-type {\n",
       "        vertical-align: middle;\n",
       "    }\n",
       "\n",
       "    .dataframe tbody tr th {\n",
       "        vertical-align: top;\n",
       "    }\n",
       "\n",
       "    .dataframe thead th {\n",
       "        text-align: right;\n",
       "    }\n",
       "</style>\n",
       "<table border=\"1\" class=\"dataframe\">\n",
       "  <thead>\n",
       "    <tr style=\"text-align: right;\">\n",
       "      <th></th>\n",
       "      <th>Food Name</th>\n",
       "      <th>Cancelled Claims</th>\n",
       "    </tr>\n",
       "  </thead>\n",
       "  <tbody>\n",
       "    <tr>\n",
       "      <th>0</th>\n",
       "      <td>Rice</td>\n",
       "      <td>49</td>\n",
       "    </tr>\n",
       "    <tr>\n",
       "      <th>1</th>\n",
       "      <td>Salad</td>\n",
       "      <td>40</td>\n",
       "    </tr>\n",
       "    <tr>\n",
       "      <th>2</th>\n",
       "      <td>Chicken</td>\n",
       "      <td>40</td>\n",
       "    </tr>\n",
       "    <tr>\n",
       "      <th>3</th>\n",
       "      <td>Fish</td>\n",
       "      <td>37</td>\n",
       "    </tr>\n",
       "    <tr>\n",
       "      <th>4</th>\n",
       "      <td>Soup</td>\n",
       "      <td>33</td>\n",
       "    </tr>\n",
       "    <tr>\n",
       "      <th>5</th>\n",
       "      <td>Pasta</td>\n",
       "      <td>30</td>\n",
       "    </tr>\n",
       "    <tr>\n",
       "      <th>6</th>\n",
       "      <td>Dairy</td>\n",
       "      <td>29</td>\n",
       "    </tr>\n",
       "    <tr>\n",
       "      <th>7</th>\n",
       "      <td>Bread</td>\n",
       "      <td>28</td>\n",
       "    </tr>\n",
       "    <tr>\n",
       "      <th>8</th>\n",
       "      <td>Fruits</td>\n",
       "      <td>25</td>\n",
       "    </tr>\n",
       "    <tr>\n",
       "      <th>9</th>\n",
       "      <td>Vegetables</td>\n",
       "      <td>25</td>\n",
       "    </tr>\n",
       "  </tbody>\n",
       "</table>\n",
       "</div>"
      ]
     },
     "execution_count": 94,
     "metadata": {},
     "output_type": "execute_result"
    }
   ],
   "execution_count": 94
  },
  {
   "metadata": {
    "ExecuteTime": {
     "end_time": "2025-08-15T09:01:33.778681Z",
     "start_time": "2025-08-15T09:01:33.709971Z"
    }
   },
   "cell_type": "code",
   "source": [
    "# Plot\n",
    "\n",
    "plt.figure(figsize=(8, 5))\n",
    "plt.barh(query14_df[\"Food Name\"], query14_df[\"Cancelled Claims\"], color=\"tomato\")\n",
    "plt.xlabel(\"Cancelled Claims\")\n",
    "plt.ylabel(\"Food Name\")\n",
    "plt.title(\"Cancelled Claims by Food Item\")\n",
    "plt.tight_layout()\n",
    "plt.show()"
   ],
   "id": "8702b2d3cbc37784",
   "outputs": [
    {
     "data": {
      "text/plain": [
       "<Figure size 800x500 with 1 Axes>"
      ],
      "image/png": "[encoded data removed]"
     },
     "metadata": {},
     "output_type": "display_data"
    }
   ],
   "execution_count": 95
  },
  {
   "metadata": {
    "ExecuteTime": {
     "end_time": "2025-08-15T09:01:33.794128Z",
     "start_time": "2025-08-15T09:01:33.789673Z"
    }
   },
   "cell_type": "code",
   "source": "query14_df.to_csv(\"Queries/query14_df.csv\", index=False)",
   "id": "dccd2a979bae150a",
   "outputs": [],
   "execution_count": 96
  },
  {
   "metadata": {},
   "cell_type": "markdown",
   "source": "#### Query 15",
   "id": "231f09c0d2fe9d51"
  },
  {
   "metadata": {
    "ExecuteTime": {
     "end_time": "2025-08-15T09:01:33.808098Z",
     "start_time": "2025-08-15T09:01:33.798968Z"
    }
   },
   "cell_type": "code",
   "source": [
    "# How many unique food items does each provider contribute?\n",
    "\n",
    "query15 = \"\"\"\n",
    "select p.Provider_ID, p.Name, count(distinct f.Food_Name) as Unique_Food_Items\n",
    "from providers p\n",
    "join food_listings f on p.Provider_ID = f.Provider_ID\n",
    "group by p.Provider_ID, p.Name\n",
    "order by Unique_Food_Items desc\n",
    "\"\"\"\n",
    "\n",
    "cursor.execute(query15)\n",
    "query15_result = cursor.fetchall()"
   ],
   "id": "a20c65511c11a7cb",
   "outputs": [],
   "execution_count": 97
  },
  {
   "metadata": {
    "ExecuteTime": {
     "end_time": "2025-08-15T09:01:33.816242Z",
     "start_time": "2025-08-15T09:01:33.812888Z"
    }
   },
   "cell_type": "code",
   "source": "query15_df = pd.DataFrame(query15_result, columns=[\"Provider ID\", \"Provider Name\", \"Unique Food Items\"])",
   "id": "c971deba32f3b433",
   "outputs": [],
   "execution_count": 98
  },
  {
   "metadata": {
    "ExecuteTime": {
     "end_time": "2025-08-15T09:01:33.829461Z",
     "start_time": "2025-08-15T09:01:33.822725Z"
    }
   },
   "cell_type": "code",
   "source": "query15_df",
   "id": "312126e360d93981",
   "outputs": [
    {
     "data": {
      "text/plain": [
       "     Provider ID               Provider Name  Unique Food Items\n",
       "0            563                 Daniels-Kim                  5\n",
       "1            161                Campbell LLC                  4\n",
       "2            332                     Cox LLC                  4\n",
       "3            752           Butler-Richardson                  4\n",
       "4            906                  Wright LLC                  4\n",
       "..           ...                         ...                ...\n",
       "632          987  Harris, Santos and Roberts                  1\n",
       "633          990                   Jones PLC                  1\n",
       "634          997              Garza-Williams                  1\n",
       "635          998                 Novak Group                  1\n",
       "636         1000              Jenkins-Brooks                  1\n",
       "\n",
       "[637 rows x 3 columns]"
      ],
      "text/html": [
       "<div>\n",
       "<style scoped>\n",
       "    .dataframe tbody tr th:only-of-type {\n",
       "        vertical-align: middle;\n",
       "    }\n",
       "\n",
       "    .dataframe tbody tr th {\n",
       "        vertical-align: top;\n",
       "    }\n",
       "\n",
       "    .dataframe thead th {\n",
       "        text-align: right;\n",
       "    }\n",
       "</style>\n",
       "<table border=\"1\" class=\"dataframe\">\n",
       "  <thead>\n",
       "    <tr style=\"text-align: right;\">\n",
       "      <th></th>\n",
       "      <th>Provider ID</th>\n",
       "      <th>Provider Name</th>\n",
       "      <th>Unique Food Items</th>\n",
       "    </tr>\n",
       "  </thead>\n",
       "  <tbody>\n",
       "    <tr>\n",
       "      <th>0</th>\n",
       "      <td>563</td>\n",
       "      <td>Daniels-Kim</td>\n",
       "      <td>5</td>\n",
       "    </tr>\n",
       "    <tr>\n",
       "      <th>1</th>\n",
       "      <td>161</td>\n",
       "      <td>Campbell LLC</td>\n",
       "      <td>4</td>\n",
       "    </tr>\n",
       "    <tr>\n",
       "      <th>2</th>\n",
       "      <td>332</td>\n",
       "      <td>Cox LLC</td>\n",
       "      <td>4</td>\n",
       "    </tr>\n",
       "    <tr>\n",
       "      <th>3</th>\n",
       "      <td>752</td>\n",
       "      <td>Butler-Richardson</td>\n",
       "      <td>4</td>\n",
       "    </tr>\n",
       "    <tr>\n",
       "      <th>4</th>\n",
       "      <td>906</td>\n",
       "      <td>Wright LLC</td>\n",
       "      <td>4</td>\n",
       "    </tr>\n",
       "    <tr>\n",
       "      <th>...</th>\n",
       "      <td>...</td>\n",
       "      <td>...</td>\n",
       "      <td>...</td>\n",
       "    </tr>\n",
       "    <tr>\n",
       "      <th>632</th>\n",
       "      <td>987</td>\n",
       "      <td>Harris, Santos and Roberts</td>\n",
       "      <td>1</td>\n",
       "    </tr>\n",
       "    <tr>\n",
       "      <th>633</th>\n",
       "      <td>990</td>\n",
       "      <td>Jones PLC</td>\n",
       "      <td>1</td>\n",
       "    </tr>\n",
       "    <tr>\n",
       "      <th>634</th>\n",
       "      <td>997</td>\n",
       "      <td>Garza-Williams</td>\n",
       "      <td>1</td>\n",
       "    </tr>\n",
       "    <tr>\n",
       "      <th>635</th>\n",
       "      <td>998</td>\n",
       "      <td>Novak Group</td>\n",
       "      <td>1</td>\n",
       "    </tr>\n",
       "    <tr>\n",
       "      <th>636</th>\n",
       "      <td>1000</td>\n",
       "      <td>Jenkins-Brooks</td>\n",
       "      <td>1</td>\n",
       "    </tr>\n",
       "  </tbody>\n",
       "</table>\n",
       "<p>637 rows × 3 columns</p>\n",
       "</div>"
      ]
     },
     "execution_count": 99,
     "metadata": {},
     "output_type": "execute_result"
    }
   ],
   "execution_count": 99
  },
  {
   "metadata": {
    "ExecuteTime": {
     "end_time": "2025-08-15T09:01:33.844452Z",
     "start_time": "2025-08-15T09:01:33.837795Z"
    }
   },
   "cell_type": "code",
   "source": "query15_df.to_csv(\"Queries/query15_df.csv\", index=False)",
   "id": "e668eaa6aad1ef13",
   "outputs": [],
   "execution_count": 100
  }
 ],
 "metadata": {
  "kernelspec": {
   "display_name": "Python 3",
   "language": "python",
   "name": "python3"
  },
  "language_info": {
   "codemirror_mode": {
    "name": "ipython",
    "version": 2
   },
   "file_extension": ".py",
   "mimetype": "text/x-python",
   "name": "python",
   "nbconvert_exporter": "python",
   "pygments_lexer": "ipython2",
   "version": "2.7.6"
  }
 },
 "nbformat": 4,
 "nbformat_minor": 5
}
